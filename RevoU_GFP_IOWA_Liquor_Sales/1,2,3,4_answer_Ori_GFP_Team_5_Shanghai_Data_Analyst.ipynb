{
  "nbformat": 4,
  "nbformat_minor": 0,
  "metadata": {
    "colab": {
      "provenance": [],
      "toc_visible": true
    },
    "kernelspec": {
      "name": "python3",
      "display_name": "Python 3"
    },
    "language_info": {
      "name": "python"
    }
  },
  "cells": [
    {
      "cell_type": "markdown",
      "source": [
        "#1.About Group Final Project\n",
        "\n"
      ],
      "metadata": {
        "id": "5idaUqRrr2O8"
      }
    },
    {
      "cell_type": "markdown",
      "source": [
        "##Links\n",
        "\n",
        "User Dataset (spreadsheet):\n",
        "https://drive.google.com/file/d/16fSI_skWNj9B3x4i4U_TVdcmOz05E-vW/view\n",
        "\n",
        "\n",
        "Data Set File path :\n",
        "file_path = '/content/drive/MyDrive/Revou Group Final Project T5-Group M/Iowa Liquor Sales (Jan 2021-Jan 2022).csv'\n",
        "\n",
        "\n",
        "Data Dictionary:\n",
        "https://docs.google.com/spreadsheets/d/18FajhHKWZ7pzNVblD_0P7NYlnIEtCDKX/edit#gid=1286383266\n"
      ],
      "metadata": {
        "id": "WQ8-EZ_1sGCO"
      }
    },
    {
      "cell_type": "markdown",
      "source": [
        "#2.Data Preparation"
      ],
      "metadata": {
        "id": "DsFraWIZrWY5"
      }
    },
    {
      "cell_type": "markdown",
      "source": [
        "##Import Library"
      ],
      "metadata": {
        "id": "6aELp_sZrnls"
      }
    },
    {
      "cell_type": "code",
      "source": [
        "import pandas as pd                 # Library used for working with data sets and perform data analysis.\n",
        "import numpy as np                  # To perform mathematical operasion and statistics\n",
        "from datetime import datetime       # Used to perform dates and time manipulation\n",
        "import seaborn as sns               # To perform data visualization\n",
        "import matplotlib.pyplot as plt     # To perform data visualization"
      ],
      "metadata": {
        "id": "xBXwXgLuri_F"
      },
      "execution_count": null,
      "outputs": []
    },
    {
      "cell_type": "markdown",
      "source": [
        "Import DataSet"
      ],
      "metadata": {
        "id": "0Mve1jz0rw35"
      }
    },
    {
      "cell_type": "code",
      "source": [
        "#Di Mount dulu ke google Drive\n",
        "\n",
        "from google.colab import drive\n",
        "drive.mount('/content/drive')\n"
      ],
      "metadata": {
        "id": "KyK887bhzFzk",
        "colab": {
          "base_uri": "https://localhost:8080/",
          "height": 345
        },
        "outputId": "1e7a9e82-f1d4-4477-9528-966e2c1c8a91"
      },
      "execution_count": null,
      "outputs": [
        {
          "output_type": "error",
          "ename": "MessageError",
          "evalue": "ignored",
          "traceback": [
            "\u001b[0;31m---------------------------------------------------------------------------\u001b[0m",
            "\u001b[0;31mMessageError\u001b[0m                              Traceback (most recent call last)",
            "\u001b[0;32m<ipython-input-2-07d5b889f790>\u001b[0m in \u001b[0;36m<cell line: 4>\u001b[0;34m()\u001b[0m\n\u001b[1;32m      2\u001b[0m \u001b[0;34m\u001b[0m\u001b[0m\n\u001b[1;32m      3\u001b[0m \u001b[0;32mfrom\u001b[0m \u001b[0mgoogle\u001b[0m\u001b[0;34m.\u001b[0m\u001b[0mcolab\u001b[0m \u001b[0;32mimport\u001b[0m \u001b[0mdrive\u001b[0m\u001b[0;34m\u001b[0m\u001b[0;34m\u001b[0m\u001b[0m\n\u001b[0;32m----> 4\u001b[0;31m \u001b[0mdrive\u001b[0m\u001b[0;34m.\u001b[0m\u001b[0mmount\u001b[0m\u001b[0;34m(\u001b[0m\u001b[0;34m'/content/drive'\u001b[0m\u001b[0;34m)\u001b[0m\u001b[0;34m\u001b[0m\u001b[0;34m\u001b[0m\u001b[0m\n\u001b[0m",
            "\u001b[0;32m/usr/local/lib/python3.10/dist-packages/google/colab/drive.py\u001b[0m in \u001b[0;36mmount\u001b[0;34m(mountpoint, force_remount, timeout_ms, readonly)\u001b[0m\n\u001b[1;32m    101\u001b[0m \u001b[0;32mdef\u001b[0m \u001b[0mmount\u001b[0m\u001b[0;34m(\u001b[0m\u001b[0mmountpoint\u001b[0m\u001b[0;34m,\u001b[0m \u001b[0mforce_remount\u001b[0m\u001b[0;34m=\u001b[0m\u001b[0;32mFalse\u001b[0m\u001b[0;34m,\u001b[0m \u001b[0mtimeout_ms\u001b[0m\u001b[0;34m=\u001b[0m\u001b[0;36m120000\u001b[0m\u001b[0;34m,\u001b[0m \u001b[0mreadonly\u001b[0m\u001b[0;34m=\u001b[0m\u001b[0;32mFalse\u001b[0m\u001b[0;34m)\u001b[0m\u001b[0;34m:\u001b[0m\u001b[0;34m\u001b[0m\u001b[0;34m\u001b[0m\u001b[0m\n\u001b[1;32m    102\u001b[0m   \u001b[0;34m\"\"\"Mount your Google Drive at the specified mountpoint path.\"\"\"\u001b[0m\u001b[0;34m\u001b[0m\u001b[0;34m\u001b[0m\u001b[0m\n\u001b[0;32m--> 103\u001b[0;31m   return _mount(\n\u001b[0m\u001b[1;32m    104\u001b[0m       \u001b[0mmountpoint\u001b[0m\u001b[0;34m,\u001b[0m\u001b[0;34m\u001b[0m\u001b[0;34m\u001b[0m\u001b[0m\n\u001b[1;32m    105\u001b[0m       \u001b[0mforce_remount\u001b[0m\u001b[0;34m=\u001b[0m\u001b[0mforce_remount\u001b[0m\u001b[0;34m,\u001b[0m\u001b[0;34m\u001b[0m\u001b[0;34m\u001b[0m\u001b[0m\n",
            "\u001b[0;32m/usr/local/lib/python3.10/dist-packages/google/colab/drive.py\u001b[0m in \u001b[0;36m_mount\u001b[0;34m(mountpoint, force_remount, timeout_ms, ephemeral, readonly)\u001b[0m\n\u001b[1;32m    130\u001b[0m   )\n\u001b[1;32m    131\u001b[0m   \u001b[0;32mif\u001b[0m \u001b[0mephemeral\u001b[0m\u001b[0;34m:\u001b[0m\u001b[0;34m\u001b[0m\u001b[0;34m\u001b[0m\u001b[0m\n\u001b[0;32m--> 132\u001b[0;31m     _message.blocking_request(\n\u001b[0m\u001b[1;32m    133\u001b[0m         \u001b[0;34m'request_auth'\u001b[0m\u001b[0;34m,\u001b[0m \u001b[0mrequest\u001b[0m\u001b[0;34m=\u001b[0m\u001b[0;34m{\u001b[0m\u001b[0;34m'authType'\u001b[0m\u001b[0;34m:\u001b[0m \u001b[0;34m'dfs_ephemeral'\u001b[0m\u001b[0;34m}\u001b[0m\u001b[0;34m,\u001b[0m \u001b[0mtimeout_sec\u001b[0m\u001b[0;34m=\u001b[0m\u001b[0;32mNone\u001b[0m\u001b[0;34m\u001b[0m\u001b[0;34m\u001b[0m\u001b[0m\n\u001b[1;32m    134\u001b[0m     )\n",
            "\u001b[0;32m/usr/local/lib/python3.10/dist-packages/google/colab/_message.py\u001b[0m in \u001b[0;36mblocking_request\u001b[0;34m(request_type, request, timeout_sec, parent)\u001b[0m\n\u001b[1;32m    174\u001b[0m       \u001b[0mrequest_type\u001b[0m\u001b[0;34m,\u001b[0m \u001b[0mrequest\u001b[0m\u001b[0;34m,\u001b[0m \u001b[0mparent\u001b[0m\u001b[0;34m=\u001b[0m\u001b[0mparent\u001b[0m\u001b[0;34m,\u001b[0m \u001b[0mexpect_reply\u001b[0m\u001b[0;34m=\u001b[0m\u001b[0;32mTrue\u001b[0m\u001b[0;34m\u001b[0m\u001b[0;34m\u001b[0m\u001b[0m\n\u001b[1;32m    175\u001b[0m   )\n\u001b[0;32m--> 176\u001b[0;31m   \u001b[0;32mreturn\u001b[0m \u001b[0mread_reply_from_input\u001b[0m\u001b[0;34m(\u001b[0m\u001b[0mrequest_id\u001b[0m\u001b[0;34m,\u001b[0m \u001b[0mtimeout_sec\u001b[0m\u001b[0;34m)\u001b[0m\u001b[0;34m\u001b[0m\u001b[0;34m\u001b[0m\u001b[0m\n\u001b[0m",
            "\u001b[0;32m/usr/local/lib/python3.10/dist-packages/google/colab/_message.py\u001b[0m in \u001b[0;36mread_reply_from_input\u001b[0;34m(message_id, timeout_sec)\u001b[0m\n\u001b[1;32m    101\u001b[0m     ):\n\u001b[1;32m    102\u001b[0m       \u001b[0;32mif\u001b[0m \u001b[0;34m'error'\u001b[0m \u001b[0;32min\u001b[0m \u001b[0mreply\u001b[0m\u001b[0;34m:\u001b[0m\u001b[0;34m\u001b[0m\u001b[0;34m\u001b[0m\u001b[0m\n\u001b[0;32m--> 103\u001b[0;31m         \u001b[0;32mraise\u001b[0m \u001b[0mMessageError\u001b[0m\u001b[0;34m(\u001b[0m\u001b[0mreply\u001b[0m\u001b[0;34m[\u001b[0m\u001b[0;34m'error'\u001b[0m\u001b[0;34m]\u001b[0m\u001b[0;34m)\u001b[0m\u001b[0;34m\u001b[0m\u001b[0;34m\u001b[0m\u001b[0m\n\u001b[0m\u001b[1;32m    104\u001b[0m       \u001b[0;32mreturn\u001b[0m \u001b[0mreply\u001b[0m\u001b[0;34m.\u001b[0m\u001b[0mget\u001b[0m\u001b[0;34m(\u001b[0m\u001b[0;34m'data'\u001b[0m\u001b[0;34m,\u001b[0m \u001b[0;32mNone\u001b[0m\u001b[0;34m)\u001b[0m\u001b[0;34m\u001b[0m\u001b[0;34m\u001b[0m\u001b[0m\n\u001b[1;32m    105\u001b[0m \u001b[0;34m\u001b[0m\u001b[0m\n",
            "\u001b[0;31mMessageError\u001b[0m: Error: credential propagation was unsuccessful"
          ]
        }
      ]
    },
    {
      "cell_type": "code",
      "source": [
        "#Baru di import tapi karena File terlalu besar, kita pakai sistem nge link, kelemahannya, setiap kalo \"Run Cell\" butuh waktu agak lama\n",
        "\n",
        "import pandas as pd\n",
        "\n",
        "# Replace 'path_to_csv_file.csv' with the correct path to your CSV file in your Google Drive\n",
        "file_path = '/content/drive/MyDrive/Revou Group Final Project T5-Group M/Iowa Liquor Sales (Jan 2021-Jan 2022).csv'\n",
        "\n",
        "# Read the CSV file into a pandas DataFrame\n",
        "dfuser = pd.read_csv(file_path)\n",
        "\n",
        "# Display the first 10 rows of the DataFrame\n",
        "dfuser.head(10)\n",
        "\n"
      ],
      "metadata": {
        "id": "5l3EFZNBzUYH"
      },
      "execution_count": null,
      "outputs": []
    },
    {
      "cell_type": "code",
      "source": [
        "# Count the total number of rows and columns\n",
        "total_rows, total_columns = dfuser.shape\n",
        "\n",
        "# Display the total number of rows and columns\n",
        "print(\"Total Rows:\", total_rows)\n",
        "print(\"Total Columns:\", total_columns)\n"
      ],
      "metadata": {
        "id": "sAPF81g910Si"
      },
      "execution_count": null,
      "outputs": []
    },
    {
      "cell_type": "markdown",
      "source": [
        "#3.Data Cleaning"
      ],
      "metadata": {
        "id": "iW--MJ0f0rYU"
      }
    },
    {
      "cell_type": "markdown",
      "source": [
        "##User"
      ],
      "metadata": {
        "id": "MSt2z-Mz1C7W"
      }
    },
    {
      "cell_type": "code",
      "source": [
        "#Make a copy of the original data for data cleaning\n",
        "dfuser = dfuser.copy()"
      ],
      "metadata": {
        "id": "yTgLgpp71FZ1"
      },
      "execution_count": null,
      "outputs": []
    },
    {
      "cell_type": "code",
      "source": [
        "dfuser.head() #Showing 5 data records"
      ],
      "metadata": {
        "id": "WG6JX2Wr1I_V"
      },
      "execution_count": null,
      "outputs": []
    },
    {
      "cell_type": "markdown",
      "source": [
        "## Check for unique Values & Typo"
      ],
      "metadata": {
        "id": "Xifl0m_F1Pxi"
      }
    },
    {
      "cell_type": "code",
      "source": [
        "import pandas as pd\n",
        "\n",
        "# Replace 'path_to_csv_file.csv' with the correct path to your CSV file in your Google Drive\n",
        "file_path = '/content/drive/MyDrive/Revou Group Final Project T5-Group M/Iowa Liquor Sales (Jan 2021-Jan 2022).csv'\n",
        "\n",
        "# Read the CSV file into a pandas DataFrame\n",
        "dfuser = pd.read_csv(file_path)\n",
        "\n",
        "# Let's assume you want to check for values and typos in the 'store_name' column\n",
        "column_to_check = 'store_name'\n",
        "\n",
        "# Get the unique values in the 'store_name' column\n",
        "unique_values = dfuser[column_to_check].unique()\n",
        "\n",
        "# Get the count of each unique value in the 'store_name' column\n",
        "value_counts = dfuser[column_to_check].value_counts()\n",
        "\n",
        "# Display the unique values and their counts to check for any typos or inconsistencies\n",
        "print(\"Unique Values:\")\n",
        "print(unique_values)\n",
        "print(\"\\nValue Counts:\")\n",
        "print(value_counts)\n"
      ],
      "metadata": {
        "id": "tXP0FCvr3_Oo"
      },
      "execution_count": null,
      "outputs": []
    },
    {
      "cell_type": "markdown",
      "source": [
        "**insight**\n",
        "\n",
        "The provided output shows the unique values in a specific column, likely the 'store_name' column of the dataset. Here's what it means:\n",
        "\n",
        "1. **Unique Values:**\n",
        "   - This section lists all the distinct names of stores or liquor-related establishments found in the 'store_name' column of the dataset.\n",
        "   - The unique values are case-sensitive, meaning that variations in capitalization (e.g., uppercase, lowercase) are treated as different values.\n",
        "\n",
        "For example, looking at the 'Unique Values' section:\n",
        "\n",
        "'hy-vee wine and spirits / storm lake'\n",
        "\n",
        "'hy-vee #3 / dubuque'\n",
        "\n",
        " 'hy-vee food store / iowa falls'\n",
        "\n",
        " 'fareway stores, inc. #222 / rockwell city'\n",
        "\n",
        " 'superquick liquor vine / west des moines'\n",
        "\n",
        " 'rock river distillation company'\n",
        "\n",
        "\n",
        "。\n",
        "\n",
        "Each line represents a unique store name exactly as it appears in the dataset. The dataset contains various store names with different spellings and capitalizations, making each entry unique.\n",
        "\n",
        "\n",
        "\n",
        "**menurut saya pribadi tidak ada Typo.dan memang unique semua**"
      ],
      "metadata": {
        "id": "h2TY-iu97nd7"
      }
    },
    {
      "cell_type": "markdown",
      "source": [
        "##Check Duplicates"
      ],
      "metadata": {
        "id": "8MUvU-PJ9Axq"
      }
    },
    {
      "cell_type": "code",
      "source": [
        "import pandas as pd\n",
        "\n",
        "# Replace 'file_path' with the correct path to your CSV file in your Google Drive\n",
        "file_path = '/content/drive/MyDrive/Revou Group Final Project T5-Group M/Iowa Liquor Sales (Jan 2021-Jan 2022).csv'\n",
        "\n",
        "# Read the CSV file into a pandas DataFrame\n",
        "df = pd.read_csv(file_path)\n",
        "\n",
        "# Check for duplicate rows in the entire DataFrame\n",
        "duplicates = df.duplicated()\n",
        "\n",
        "# Filter the DataFrame to show only the duplicate rows\n",
        "duplicate_rows = df[duplicates]\n",
        "\n",
        "# Print the duplicate rows\n",
        "print(duplicate_rows)\n"
      ],
      "metadata": {
        "id": "a9ILkqNO9DZ1"
      },
      "execution_count": null,
      "outputs": []
    },
    {
      "cell_type": "markdown",
      "source": [
        "**insight **\n",
        "\n",
        "No Duplicates Found"
      ],
      "metadata": {
        "id": "3fwYMEjR9z_e"
      }
    },
    {
      "cell_type": "markdown",
      "source": [
        "## Check Data Type"
      ],
      "metadata": {
        "id": "_Tb0IBM5-CJZ"
      }
    },
    {
      "cell_type": "code",
      "source": [
        "dfuser.info() #Check table info"
      ],
      "metadata": {
        "id": "DxZepm5H-Erf"
      },
      "execution_count": null,
      "outputs": []
    },
    {
      "cell_type": "markdown",
      "source": [
        "**insight**\n",
        "\n",
        "0   invoice_and_item_number  object   - Benar\n",
        "\n",
        " 1   date                     object  -      salah，harusnya datetime\n",
        "\n",
        " 2   store_number             int64   - Benar\n",
        "\n",
        " 3   store_name               object  - Benar\n",
        "\n",
        " 4   address                  object  - Benar\n",
        "\n",
        "\n",
        " 5   city                     object  - Benar\n",
        "\n",
        " 6   zip_code                 float64 -     salah，harusnya int64\n",
        "\n",
        " 7   store_location           object  - Benar\n",
        "\n",
        " 8   county_number            float64 -     salah，harusnya int64\n",
        "\n",
        " 9   county                   object  - Benar\n",
        "\n",
        " 10  category                 float64 -     salah，harusnya object\n",
        "\n",
        " 11  category_name            object  - Benar\n",
        "\n",
        " 12  vendor_number            float64 -     salah，harusnya int64\n",
        "\n",
        " 13  vendor_name              object  - Benar\n",
        "\n",
        " 14  item_number              int64   - Benar\n",
        "\n",
        " 15  item_description         object  - Benar\n",
        "\n",
        " 16  pack                     int64   - Benar\n",
        "\n",
        " 17  bottle_volume_ml         int64   - Benar\n",
        "\n",
        " 18  state_bottle_cost        float64 - Benar\n",
        "\n",
        " 19  state_bottle_retail      float64 - Benar\n",
        "\n",
        " 20  bottles_sold             int64   - Benar\n",
        "\n",
        " 21  sale_dollars             float64 - Benar\n",
        "\n",
        " 22  volume_sold_liters       float64 - Benar\n",
        "\n",
        " 23  volume_sold_gallons      float64 - Benar"
      ],
      "metadata": {
        "id": "kJCpinyM-QJE"
      }
    },
    {
      "cell_type": "markdown",
      "source": [
        "## We will change the wrong data type :\n",
        "\n",
        "date           from   object   become  datetime\n",
        "\n",
        "zip_code       from   float64  become  int64\n",
        "\n",
        "county_number  from   float64  become  int64\n",
        "\n",
        "category       from   float64  become  object\n",
        "\n",
        "vendor_number  from   float64  become  int64"
      ],
      "metadata": {
        "id": "ecjfnm_KKQNt"
      }
    },
    {
      "cell_type": "code",
      "source": [
        "import pandas as pd\n",
        "\n",
        "# It seems that the column 'zip_code' and 'vendor_number' contains non-finite values (NaN or inf), which is preventing the conversion to the int64 data type. Before converting, we need to handle these non-finite values.\n",
        "\n",
        "\n",
        "# Handle missing values in 'zip_code' and 'vendor_number' columns (choose one of the following approaches)\n",
        "# 1. Drop rows with missing values in 'zip_code' and 'vendor_number' columns\n",
        "dfuser = dfuser.dropna(subset=['zip_code', 'vendor_number'])\n",
        "# 2. Fill missing values in 'zip_code' and 'vendor_number' columns with default values (e.g., 0)\n",
        "# dfuser['zip_code'] = dfuser['zip_code'].fillna(0)\n",
        "# dfuser['vendor_number'] = dfuser['vendor_number'].fillna(0)\n",
        "\n",
        "# Change data types of multiple columns in one run\n",
        "dfuser['date'] = pd.to_datetime(dfuser['date'])  # Change 'date' to datetime data type\n",
        "dfuser['zip_code'] = dfuser['zip_code'].astype(int)  # Change 'zip_code' to int64 data type\n",
        "dfuser['county_number'] = dfuser['county_number'].astype(int)  # Change 'county_number' to int64 data type\n",
        "dfuser['category'] = dfuser['category'].astype(str)  # Change 'category' to object data type\n",
        "dfuser['vendor_number'] = dfuser['vendor_number'].astype(int)  # Change 'vendor_number' to int64 data type\n",
        "\n",
        "# Print the data types of the DataFrame after the changes\n",
        "print(dfuser.dtypes)\n",
        "\n"
      ],
      "metadata": {
        "id": "2T7tLHo3LFmC"
      },
      "execution_count": null,
      "outputs": []
    },
    {
      "cell_type": "markdown",
      "source": [
        "**insight **\n",
        "\n",
        "apakah sudah benar Data Type nya ? mohon di bantu periksa"
      ],
      "metadata": {
        "id": "ivRMrPx2LYoE"
      }
    },
    {
      "cell_type": "markdown",
      "source": [
        "##Check for Null / Missing Values"
      ],
      "metadata": {
        "id": "jCsA6b7vAhid"
      }
    },
    {
      "cell_type": "code",
      "source": [
        "import pandas as pd\n",
        "\n",
        "# Check for missing values in all columns\n",
        "missing_values = dfuser.isnull().sum()\n",
        "\n",
        "# Calculate the total number of rows in the DataFrame\n",
        "total_rows = len(dfuser)\n",
        "\n",
        "# Display the number of missing values and their percentages for each column\n",
        "for column, count in missing_values.items():\n",
        "    percentage_missing = (count / total_rows) * 100\n",
        "    print(f\"{column}: {count}(NULL: {percentage_missing:.2f}%)\")\n",
        "\n",
        "\n"
      ],
      "metadata": {
        "id": "h6j4k5BvAkVw"
      },
      "execution_count": null,
      "outputs": []
    },
    {
      "cell_type": "markdown",
      "source": [
        "insight\n",
        "**bold text**\n",
        "\n",
        "store_location  has 330.193 Null (11.77% from total Rows )\n",
        "\n",
        "**kata TL Rahma, di hapus aja column nya , karena tidak terpakai untuk analisa**"
      ],
      "metadata": {
        "id": "K7pERCyDBYwy"
      }
    },
    {
      "cell_type": "code",
      "source": [
        "#kita hapus column \"store_location\" karena tidak terpakai untuk analisa.\n",
        "\n",
        "import pandas as pd\n",
        "\n",
        "# To drop the 'store_location' column from the DataFrame completely:\n",
        "dfuser.drop('store_location', axis=1, inplace=True)\n",
        "\n",
        "# Check the remaining data in the DataFrame\n",
        "print(dfuser.head())\n",
        "\n",
        "# Count the number of null values in each column\n",
        "null_counts = dfuser.isnull().sum()\n",
        "print(\"Number of null values in each column:\")\n",
        "print(null_counts)\n",
        "\n"
      ],
      "metadata": {
        "id": "FxUJL4yRCIy1"
      },
      "execution_count": null,
      "outputs": []
    },
    {
      "cell_type": "markdown",
      "source": [
        "**insight**\n",
        "\n",
        "All NULL have been annihilated- store_location = removed"
      ],
      "metadata": {
        "id": "ChrcuJQ3Huxt"
      }
    },
    {
      "cell_type": "markdown",
      "source": [
        "#insight : Data has cleaned\n",
        "**and we can start the analysist**"
      ],
      "metadata": {
        "id": "WZgeaOmmacEu"
      }
    },
    {
      "cell_type": "markdown",
      "source": [
        "#4.**Users Clean Data - make a copy**"
      ],
      "metadata": {
        "id": "x0Cw6EUwMY5b"
      }
    },
    {
      "cell_type": "code",
      "source": [
        "dfuser = dfuser.copy() #Create a copy after cleaning for other purpose, and its easier if there is something forgoten and needed to be clean later\n",
        "dfuser.head()"
      ],
      "metadata": {
        "id": "CzPAi_uYMbDU"
      },
      "execution_count": null,
      "outputs": []
    },
    {
      "cell_type": "markdown",
      "source": [
        "#5.Analisa Data\n",
        "1.How was the trend of the number of bottles sold between January 2021 to January 2022?\n",
        "\n",
        "2.How much revenue does Iowa make from the business each month? Which product drives the most sales?\n",
        "\n",
        "3.How many stores ordered the liquor? Which store has the most order?\n",
        "\n",
        "4.Which product has the most order?and how many gallons were sold ?\n"
      ],
      "metadata": {
        "id": "F82sQunodKDt"
      }
    },
    {
      "cell_type": "markdown",
      "source": [
        "##1.How was the trend of the number of bottles sold between January 2021 to January 2022?"
      ],
      "metadata": {
        "id": "RZ_x7_tDLlA3"
      }
    },
    {
      "cell_type": "code",
      "source": [
        "import pandas as pd\n",
        "\n",
        "\n",
        "# Convert the 'date' column to a pandas datetime object (if it's not already in datetime format)\n",
        "dfuser['date'] = pd.to_datetime(dfuser['date'])\n",
        "\n",
        "# Filter the data for the period between January 2021 to January 2022\n",
        "start_date = '2021-01-01'\n",
        "end_date = '2022-01-31'\n",
        "df_period = dfuser[(dfuser['date'] >= start_date) & (dfuser['date'] <= end_date)]\n",
        "\n",
        "# Calculate the total number of bottles sold between January 2021 to January 2022\n",
        "total_bottles_sold = df_period['bottles_sold'].sum()\n",
        "\n",
        "# Resample the data to get monthly sums of bottles sold\n",
        "monthly_bottles_sold = df_period.resample('M', on='date')['bottles_sold'].sum()\n",
        "\n",
        "# Print the total number of bottles sold between January 2021 to January 2022\n",
        "print(\"Total number of bottles sold between January 2021 to January 2022:\", total_bottles_sold)\n",
        "\n",
        "# Print the list of number of bottles sold exactly every month\n",
        "print(\"\\nList of number of bottles sold exactly every month:\")\n",
        "print(monthly_bottles_sold)\n",
        "\n"
      ],
      "metadata": {
        "id": "a89g_hX6LcEn"
      },
      "execution_count": null,
      "outputs": []
    },
    {
      "cell_type": "code",
      "source": [
        "import pandas as pd\n",
        "import matplotlib.pyplot as plt\n",
        "\n",
        "\n",
        "# Convert the 'date' column to a pandas datetime object (if it's not already in datetime format)\n",
        "dfuser['date'] = pd.to_datetime(dfuser['date'])\n",
        "\n",
        "# Filter the data for the period between January 2021 to December 2021\n",
        "start_date = '2021-01-01'\n",
        "end_date = '2021-12-31'\n",
        "df_period = dfuser[(dfuser['date'] >= start_date) & (dfuser['date'] <= end_date)]\n",
        "\n",
        "# Resample the data to get monthly sums of bottles sold\n",
        "monthly_bottles_sold = df_period.resample('M', on='date')['bottles_sold'].sum()\n",
        "\n",
        "# Create a line chart to visualize the trend of bottles sold on a monthly basis\n",
        "plt.figure(figsize=(10, 6))\n",
        "plt.plot(monthly_bottles_sold.index, monthly_bottles_sold.values, marker='o', linestyle='-')\n",
        "plt.xlabel('Date')\n",
        "plt.ylabel('Number of Bottles Sold')\n",
        "plt.title('Trend of Number of Bottles Sold (Jan 2021 to Dec 2021) - Monthly Data')\n",
        "plt.xticks(pd.date_range(start='2021-01-01', end='2021-12-01', freq='MS'), rotation=45)\n",
        "plt.grid(True)\n",
        "plt.tight_layout()\n",
        "plt.show()\n"
      ],
      "metadata": {
        "id": "7Ze00E46IbLq"
      },
      "execution_count": null,
      "outputs": []
    },
    {
      "cell_type": "markdown",
      "source": [
        "List of number of bottles sold exactly every month:\n",
        "\n",
        "2021-01-31  =  2.203.363\n",
        "\n",
        "2021-02-28  =  2.224.805\n",
        "\n",
        "2021-03-31  =  2.680.772\n",
        "\n",
        "2021-04-30  =  2.643.097\n",
        "\n",
        "2021-05-31  =  2.492.732\n",
        "\n",
        "2021-06-30  =  2.867.294\n",
        "\n",
        "2021-07-31  =  2.558.550\n",
        "\n",
        "2021-08-31  =  2.646.637\n",
        "\n",
        "2021-09-30  =  2.589.685\n",
        "\n",
        "2021-10-31  =  2.709.511\n",
        "\n",
        "2021-11-30  =  2.617.942\n",
        "\n",
        "2021-12-31  =  2.966.881\n",
        "\n",
        "2022-01-31  =  2.062.829\n",
        "\n",
        "Total number of bottles sold between January 2021 to January 2022: 33.264.098"
      ],
      "metadata": {
        "id": "3FVkTZLQMwA1"
      }
    },
    {
      "cell_type": "markdown",
      "source": [
        "##2.How much revenue does Iowa make from the business each month? Which product drives the most sales?"
      ],
      "metadata": {
        "id": "yDlsrlt1Lq2L"
      }
    },
    {
      "cell_type": "code",
      "source": [
        "import pandas as pd\n",
        "\n",
        "\n",
        "# Convert the 'date' column to a pandas datetime object (if it's not already in datetime format)\n",
        "dfuser['date'] = pd.to_datetime(dfuser['date'])\n",
        "\n",
        "# Filter the data for the period between January 2021 to January 2022\n",
        "start_date = '2021-01-01'\n",
        "end_date = '2022-01-31'\n",
        "df_period = dfuser[(dfuser['date'] >= start_date) & (dfuser['date'] <= end_date)]\n",
        "\n",
        "# Calculate the total revenue for each month\n",
        "monthly_revenue = df_period.resample('M', on='date')['sale_dollars'].sum()\n",
        "\n",
        "# Calculate the total revenue in the entire period (January 2021 to January 2022)\n",
        "total_revenue = df_period['sale_dollars'].sum()\n",
        "\n",
        "# Print the revenue for each month\n",
        "print(\"Revenue for each month (Jan 2021 to Jan 2022):\")\n",
        "print(monthly_revenue)\n",
        "\n",
        "# Print the total revenue in the entire period\n",
        "print(\"\\nTotal revenue in the period (Jan 2021 to Jan 2022):\", total_revenue)\n"
      ],
      "metadata": {
        "id": "BMw6Qk9VL3ue"
      },
      "execution_count": null,
      "outputs": []
    },
    {
      "cell_type": "code",
      "source": [
        "import pandas as pd\n",
        "\n",
        "\n",
        "# Convert the 'date' column to a pandas datetime object (if it's not already in datetime format)\n",
        "dfuser['date'] = pd.to_datetime(dfuser['date'])\n",
        "\n",
        "# Filter the data for the period between January 2021 to January 2022\n",
        "start_date = '2021-01-01'\n",
        "end_date = '2022-01-31'\n",
        "df_period = dfuser[(dfuser['date'] >= start_date) & (dfuser['date'] <= end_date)]\n",
        "\n",
        "# Group the data by 'item_description' and calculate the total bottles sold for each product\n",
        "product_sales = df_period.groupby('item_description')['bottles_sold'].sum()\n",
        "\n",
        "# Find the product that drives the most sales\n",
        "most_sold_product = product_sales.idxmax()\n",
        "most_sold_quantity = product_sales.max()\n",
        "\n",
        "# Print the product that drives the most sales and the number of bottles sold for that product\n",
        "print(\"Product that drives the most sales:\", most_sold_product)\n",
        "print(\"Number of bottles sold:\", most_sold_quantity)"
      ],
      "metadata": {
        "id": "pmCg2oBoO3Ly"
      },
      "execution_count": null,
      "outputs": []
    },
    {
      "cell_type": "markdown",
      "source": [
        "##3.How many stores ordered the liquor? Which store has the most order?"
      ],
      "metadata": {
        "id": "tRpW3JYJPUxJ"
      }
    },
    {
      "cell_type": "code",
      "source": [
        "import pandas as pd\n",
        "\n",
        "# Get the count of unique store numbers to find out how many stores ordered liquor\n",
        "num_stores_ordered = dfuser['store_number'].nunique()\n",
        "\n",
        "# Find the store with the most orders\n",
        "store_with_most_orders = dfuser['store_number'].value_counts().idxmax()\n",
        "\n",
        "# Get the store name corresponding to the store number with the most orders\n",
        "store_name_with_most_orders = dfuser.loc[dfuser['store_number'] == store_with_most_orders, 'store_name'].iloc[0]\n",
        "\n",
        "# Print the number of stores that ordered liquor, the store number with the most orders, and the store name with the most orders\n",
        "print(\"Number of stores that ordered liquor:\", num_stores_ordered)\n",
        "print(\"Store number with the most orders:\", store_with_most_orders)\n",
        "print(\"Store name with the most orders:\", store_name_with_most_orders)\n"
      ],
      "metadata": {
        "id": "QZRsGYYqPdy_"
      },
      "execution_count": null,
      "outputs": []
    },
    {
      "cell_type": "markdown",
      "source": [
        "##4.Which product has the most order?and how many gallons were sold ?"
      ],
      "metadata": {
        "id": "XwLXL70OPx6g"
      }
    },
    {
      "cell_type": "code",
      "source": [
        "import pandas as pd\n",
        "\n",
        "# Find the product with the most orders\n",
        "product_with_most_orders = dfuser['item_description'].value_counts().idxmax()\n",
        "\n",
        "# Get the number of orders for the product with the most orders\n",
        "most_orders_count = dfuser['item_description'].value_counts().max()\n",
        "\n",
        "# Calculate the total volume sold in gallons for the product with the most orders\n",
        "total_gallons_sold_for_most_orders = dfuser[dfuser['item_description'] == product_with_most_orders]['volume_sold_gallons'].sum()\n",
        "\n",
        "# Print the product with the most orders and the number of orders\n",
        "print(\"Product with the most orders:\", product_with_most_orders)\n",
        "print(\"Number of orders for the product with the most orders:\", most_orders_count)\n",
        "\n",
        "# Print the total volume sold in gallons for the product with the most orders\n",
        "print(\"Total volume sold in gallons for the product with the most orders:\", total_gallons_sold_for_most_orders)\n"
      ],
      "metadata": {
        "id": "ZJKS2G-BQC4k",
        "outputId": "9c7adba9-5e8d-400c-e906-a0bf48338c93",
        "colab": {
          "base_uri": "https://localhost:8080/",
          "height": 246
        }
      },
      "execution_count": null,
      "outputs": [
        {
          "output_type": "error",
          "ename": "NameError",
          "evalue": "ignored",
          "traceback": [
            "\u001b[0;31m---------------------------------------------------------------------------\u001b[0m",
            "\u001b[0;31mNameError\u001b[0m                                 Traceback (most recent call last)",
            "\u001b[0;32m<ipython-input-1-2b7cab99507d>\u001b[0m in \u001b[0;36m<cell line: 4>\u001b[0;34m()\u001b[0m\n\u001b[1;32m      2\u001b[0m \u001b[0;34m\u001b[0m\u001b[0m\n\u001b[1;32m      3\u001b[0m \u001b[0;31m# Find the product with the most orders\u001b[0m\u001b[0;34m\u001b[0m\u001b[0;34m\u001b[0m\u001b[0m\n\u001b[0;32m----> 4\u001b[0;31m \u001b[0mproduct_with_most_orders\u001b[0m \u001b[0;34m=\u001b[0m \u001b[0mdfuser\u001b[0m\u001b[0;34m[\u001b[0m\u001b[0;34m'item_description'\u001b[0m\u001b[0;34m]\u001b[0m\u001b[0;34m.\u001b[0m\u001b[0mvalue_counts\u001b[0m\u001b[0;34m(\u001b[0m\u001b[0;34m)\u001b[0m\u001b[0;34m.\u001b[0m\u001b[0midxmax\u001b[0m\u001b[0;34m(\u001b[0m\u001b[0;34m)\u001b[0m\u001b[0;34m\u001b[0m\u001b[0;34m\u001b[0m\u001b[0m\n\u001b[0m\u001b[1;32m      5\u001b[0m \u001b[0;34m\u001b[0m\u001b[0m\n\u001b[1;32m      6\u001b[0m \u001b[0;31m# Get the number of orders for the product with the most orders\u001b[0m\u001b[0;34m\u001b[0m\u001b[0;34m\u001b[0m\u001b[0m\n",
            "\u001b[0;31mNameError\u001b[0m: name 'dfuser' is not defined"
          ]
        }
      ]
    }
  ]
}