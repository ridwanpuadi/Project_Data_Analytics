{
  "nbformat": 4,
  "nbformat_minor": 0,
  "metadata": {
    "colab": {
      "provenance": []
    },
    "kernelspec": {
      "name": "python3",
      "display_name": "Python 3"
    },
    "language_info": {
      "name": "python"
    }
  },
  "cells": [
    {
      "cell_type": "markdown",
      "source": [
        "#1.About Group Final Project\n",
        "\n"
      ],
      "metadata": {
        "id": "5idaUqRrr2O8"
      }
    },
    {
      "cell_type": "markdown",
      "source": [
        "##Links\n",
        "\n",
        "User Dataset (spreadsheet):\n",
        "https://drive.google.com/file/d/16fSI_skWNj9B3x4i4U_TVdcmOz05E-vW/view\n",
        "\n",
        "\n",
        "Data Set File path :\n",
        "file_path = '/content/drive/MyDrive/Colab Notebooks/Iowa Liquor Sales (Jan 2021-Jan 2022).csv'\n",
        "\n",
        "\n",
        "Data Dictionary:\n",
        "https://docs.google.com/spreadsheets/d/18FajhHKWZ7pzNVblD_0P7NYlnIEtCDKX/edit#gid=1286383266\n"
      ],
      "metadata": {
        "id": "WQ8-EZ_1sGCO"
      }
    },
    {
      "cell_type": "markdown",
      "source": [
        "#2.Data Preparation"
      ],
      "metadata": {
        "id": "DsFraWIZrWY5"
      }
    },
    {
      "cell_type": "markdown",
      "source": [
        "##Import Library"
      ],
      "metadata": {
        "id": "6aELp_sZrnls"
      }
    },
    {
      "cell_type": "code",
      "source": [
        "import pandas as pd                 # Library used for working with data sets and perform data analysis.\n",
        "import numpy as np                  # To perform mathematical operasion and statistics\n",
        "from datetime import datetime       # Used to perform dates and time manipulation\n",
        "import seaborn as sns               # To perform data visualization\n",
        "import matplotlib.pyplot as plt     # To perform data visualization"
      ],
      "metadata": {
        "id": "xBXwXgLuri_F"
      },
      "execution_count": null,
      "outputs": []
    },
    {
      "cell_type": "markdown",
      "source": [
        "Import DataSet"
      ],
      "metadata": {
        "id": "0Mve1jz0rw35"
      }
    },
    {
      "cell_type": "code",
      "source": [
        "#Di Mount dulu ke google Drive\n",
        "\n",
        "from google.colab import drive\n",
        "drive.mount('/content/drive')\n"
      ],
      "metadata": {
        "id": "KyK887bhzFzk",
        "colab": {
          "base_uri": "https://localhost:8080/"
        },
        "outputId": "042f15f5-4f8e-4676-b88e-a19c2785f415"
      },
      "execution_count": null,
      "outputs": [
        {
          "output_type": "stream",
          "name": "stdout",
          "text": [
            "Drive already mounted at /content/drive; to attempt to forcibly remount, call drive.mount(\"/content/drive\", force_remount=True).\n"
          ]
        }
      ]
    },
    {
      "cell_type": "code",
      "source": [
        "#Baru di import tapi karena File terlalu besar, kita pakai sistem nge link, kelemahannya, setiap kalo \"Run Cell\" butuh waktu agak lama\n",
        "\n",
        "import pandas as pd\n",
        "\n",
        "# Replace 'path_to_csv_file.csv' with the correct path to your CSV file in your Google Drive\n",
        "file_path = '/content/drive/MyDrive/Colab Notebooks/Iowa Liquor Sales (Jan 2021-Jan 2022).csv'\n",
        "\n",
        "# Read the CSV file into a pandas DataFrame\n",
        "dfuser = pd.read_csv(file_path)\n",
        "\n",
        "# Display the first 10 rows of the DataFrame\n",
        "dfuser.head(10)\n",
        "\n"
      ],
      "metadata": {
        "id": "5l3EFZNBzUYH",
        "colab": {
          "base_uri": "https://localhost:8080/",
          "height": 786
        },
        "outputId": "0237cacf-e7cc-452e-8a02-d35222a870c8"
      },
      "execution_count": null,
      "outputs": [
        {
          "output_type": "execute_result",
          "data": {
            "text/plain": [
              "  invoice_and_item_number        date  store_number  \\\n",
              "0         INV-33179700135  2021-01-04          2576   \n",
              "1         INV-33196200106  2021-01-04          2649   \n",
              "2         INV-33184300011  2021-01-04          2539   \n",
              "3         INV-33184100015  2021-01-04          4024   \n",
              "4         INV-33174200025  2021-01-04          5385   \n",
              "5         INV-33186700007  2021-01-04          4110   \n",
              "6         INV-33197500003  2021-01-04          4228   \n",
              "7         INV-33197200010  2021-01-04          2713   \n",
              "8         INV-33174600126  2021-01-04          2648   \n",
              "9         INV-33202000002  2021-01-04          5735   \n",
              "\n",
              "                             store_name              address             city  \\\n",
              "0  Hy-Vee Wine and Spirits / Storm Lake       1250 N Lake St       Storm Lake   \n",
              "1                   Hy-Vee #3 / Dubuque        400 Locust St          Dubuque   \n",
              "2        Hy-Vee Food Store / Iowa Falls           640 S. Oak       Iowa Falls   \n",
              "3            Wal-Mart 1546 / Iowa Falls            840 S Oak       Iowa Falls   \n",
              "4                    Vine Food & Liquor        2704 Vine St.  West Des Moines   \n",
              "5                 Brothers Market, Inc.       706 Highway 57      Parkersburg   \n",
              "6          Fareway Stores #462 / Vinton            501 A Ave           Vinton   \n",
              "7        Hy-Vee Dyersville Dollar Fresh     1201 12th Ave SE       Dyersville   \n",
              "8                       Hy-Vee #4 / WDM        555 S 51st St  West Des Moines   \n",
              "9         Super Saver Liquor -Muscatine  1510 A Isett Avenue        Muscatine   \n",
              "\n",
              "   zip_code                        store_location  county_number      county  \\\n",
              "0   50588.0  POINT (-95.200758 42.65318400000001)           11.0  BUENA VIST   \n",
              "1   52001.0  POINT (-90.666497 42.49721900000001)           31.0     DUBUQUE   \n",
              "2   50126.0          POINT (-93.262364 42.508752)           42.0      HARDIN   \n",
              "3   50126.0          POINT (-93.262446 42.503407)           42.0      HARDIN   \n",
              "4   50265.0          POINT (-93.741511 41.580206)           77.0        POLK   \n",
              "5   50665.0          POINT (-92.785196 42.570357)           12.0      BUTLER   \n",
              "6   52349.0          POINT (-92.025603 42.166166)            6.0      BENTON   \n",
              "7   52040.0          POINT (-91.110798 42.475283)           31.0     DUBUQUE   \n",
              "8   50265.0          POINT (-93.773557 41.561197)           77.0        POLK   \n",
              "9   52761.0          POINT (-91.042755 41.440327)           70.0   MUSCATINE   \n",
              "\n",
              "   ...  item_number                          item_description  pack  \\\n",
              "0  ...        64870                 Fireball Cinnamon Whiskey    48   \n",
              "1  ...        65200                      Tequila Rose Liqueur    12   \n",
              "2  ...        38008                        Smirnoff 80prf PET     6   \n",
              "3  ...        36648                             Caliber Vodka    12   \n",
              "4  ...         4626                      Buchanan Deluxe 12YR    12   \n",
              "5  ...        34821                              Svedka 80prf     6   \n",
              "6  ...        34006               Absolut Swedish Vodka 80prf    12   \n",
              "7  ...        36308                             Hawkeye Vodka     6   \n",
              "8  ...         5318               Johnnie Walker Double Black     6   \n",
              "9  ...        86739  Ole Smoky Apple Pie Moonshine 70prf Mini     8   \n",
              "\n",
              "  bottle_volume_ml  state_bottle_cost state_bottle_retail  bottles_sold  \\\n",
              "0              100               0.90                1.35            48   \n",
              "1              750              11.50               17.25             4   \n",
              "2             1750              14.75               22.13             6   \n",
              "3              750               3.31                4.97            12   \n",
              "4              750              20.99               31.49             2   \n",
              "5             1750              13.50               20.25             6   \n",
              "6              750               9.99               14.99            12   \n",
              "7             1750               7.17               10.76             6   \n",
              "8              750              24.05               36.08             6   \n",
              "9               50               8.75               13.13             8   \n",
              "\n",
              "   sale_dollars  volume_sold_liters  volume_sold_gallons  \n",
              "0         64.80                 4.8                 1.26  \n",
              "1         69.00                 3.0                 0.79  \n",
              "2        132.78                10.5                 2.77  \n",
              "3         59.64                 9.0                 2.37  \n",
              "4         62.98                 1.5                 0.39  \n",
              "5        121.50                10.5                 2.77  \n",
              "6        179.88                 9.0                 2.37  \n",
              "7         64.56                10.5                 2.77  \n",
              "8        216.48                 4.5                 1.18  \n",
              "9        105.04                 0.4                 0.10  \n",
              "\n",
              "[10 rows x 24 columns]"
            ],
            "text/html": [
              "\n",
              "\n",
              "  <div id=\"df-cdd83220-28ec-420d-bcc4-fdf709edaed8\">\n",
              "    <div class=\"colab-df-container\">\n",
              "      <div>\n",
              "<style scoped>\n",
              "    .dataframe tbody tr th:only-of-type {\n",
              "        vertical-align: middle;\n",
              "    }\n",
              "\n",
              "    .dataframe tbody tr th {\n",
              "        vertical-align: top;\n",
              "    }\n",
              "\n",
              "    .dataframe thead th {\n",
              "        text-align: right;\n",
              "    }\n",
              "</style>\n",
              "<table border=\"1\" class=\"dataframe\">\n",
              "  <thead>\n",
              "    <tr style=\"text-align: right;\">\n",
              "      <th></th>\n",
              "      <th>invoice_and_item_number</th>\n",
              "      <th>date</th>\n",
              "      <th>store_number</th>\n",
              "      <th>store_name</th>\n",
              "      <th>address</th>\n",
              "      <th>city</th>\n",
              "      <th>zip_code</th>\n",
              "      <th>store_location</th>\n",
              "      <th>county_number</th>\n",
              "      <th>county</th>\n",
              "      <th>...</th>\n",
              "      <th>item_number</th>\n",
              "      <th>item_description</th>\n",
              "      <th>pack</th>\n",
              "      <th>bottle_volume_ml</th>\n",
              "      <th>state_bottle_cost</th>\n",
              "      <th>state_bottle_retail</th>\n",
              "      <th>bottles_sold</th>\n",
              "      <th>sale_dollars</th>\n",
              "      <th>volume_sold_liters</th>\n",
              "      <th>volume_sold_gallons</th>\n",
              "    </tr>\n",
              "  </thead>\n",
              "  <tbody>\n",
              "    <tr>\n",
              "      <th>0</th>\n",
              "      <td>INV-33179700135</td>\n",
              "      <td>2021-01-04</td>\n",
              "      <td>2576</td>\n",
              "      <td>Hy-Vee Wine and Spirits / Storm Lake</td>\n",
              "      <td>1250 N Lake St</td>\n",
              "      <td>Storm Lake</td>\n",
              "      <td>50588.0</td>\n",
              "      <td>POINT (-95.200758 42.65318400000001)</td>\n",
              "      <td>11.0</td>\n",
              "      <td>BUENA VIST</td>\n",
              "      <td>...</td>\n",
              "      <td>64870</td>\n",
              "      <td>Fireball Cinnamon Whiskey</td>\n",
              "      <td>48</td>\n",
              "      <td>100</td>\n",
              "      <td>0.90</td>\n",
              "      <td>1.35</td>\n",
              "      <td>48</td>\n",
              "      <td>64.80</td>\n",
              "      <td>4.8</td>\n",
              "      <td>1.26</td>\n",
              "    </tr>\n",
              "    <tr>\n",
              "      <th>1</th>\n",
              "      <td>INV-33196200106</td>\n",
              "      <td>2021-01-04</td>\n",
              "      <td>2649</td>\n",
              "      <td>Hy-Vee #3 / Dubuque</td>\n",
              "      <td>400 Locust St</td>\n",
              "      <td>Dubuque</td>\n",
              "      <td>52001.0</td>\n",
              "      <td>POINT (-90.666497 42.49721900000001)</td>\n",
              "      <td>31.0</td>\n",
              "      <td>DUBUQUE</td>\n",
              "      <td>...</td>\n",
              "      <td>65200</td>\n",
              "      <td>Tequila Rose Liqueur</td>\n",
              "      <td>12</td>\n",
              "      <td>750</td>\n",
              "      <td>11.50</td>\n",
              "      <td>17.25</td>\n",
              "      <td>4</td>\n",
              "      <td>69.00</td>\n",
              "      <td>3.0</td>\n",
              "      <td>0.79</td>\n",
              "    </tr>\n",
              "    <tr>\n",
              "      <th>2</th>\n",
              "      <td>INV-33184300011</td>\n",
              "      <td>2021-01-04</td>\n",
              "      <td>2539</td>\n",
              "      <td>Hy-Vee Food Store / Iowa Falls</td>\n",
              "      <td>640 S. Oak</td>\n",
              "      <td>Iowa Falls</td>\n",
              "      <td>50126.0</td>\n",
              "      <td>POINT (-93.262364 42.508752)</td>\n",
              "      <td>42.0</td>\n",
              "      <td>HARDIN</td>\n",
              "      <td>...</td>\n",
              "      <td>38008</td>\n",
              "      <td>Smirnoff 80prf PET</td>\n",
              "      <td>6</td>\n",
              "      <td>1750</td>\n",
              "      <td>14.75</td>\n",
              "      <td>22.13</td>\n",
              "      <td>6</td>\n",
              "      <td>132.78</td>\n",
              "      <td>10.5</td>\n",
              "      <td>2.77</td>\n",
              "    </tr>\n",
              "    <tr>\n",
              "      <th>3</th>\n",
              "      <td>INV-33184100015</td>\n",
              "      <td>2021-01-04</td>\n",
              "      <td>4024</td>\n",
              "      <td>Wal-Mart 1546 / Iowa Falls</td>\n",
              "      <td>840 S Oak</td>\n",
              "      <td>Iowa Falls</td>\n",
              "      <td>50126.0</td>\n",
              "      <td>POINT (-93.262446 42.503407)</td>\n",
              "      <td>42.0</td>\n",
              "      <td>HARDIN</td>\n",
              "      <td>...</td>\n",
              "      <td>36648</td>\n",
              "      <td>Caliber Vodka</td>\n",
              "      <td>12</td>\n",
              "      <td>750</td>\n",
              "      <td>3.31</td>\n",
              "      <td>4.97</td>\n",
              "      <td>12</td>\n",
              "      <td>59.64</td>\n",
              "      <td>9.0</td>\n",
              "      <td>2.37</td>\n",
              "    </tr>\n",
              "    <tr>\n",
              "      <th>4</th>\n",
              "      <td>INV-33174200025</td>\n",
              "      <td>2021-01-04</td>\n",
              "      <td>5385</td>\n",
              "      <td>Vine Food &amp; Liquor</td>\n",
              "      <td>2704 Vine St.</td>\n",
              "      <td>West Des Moines</td>\n",
              "      <td>50265.0</td>\n",
              "      <td>POINT (-93.741511 41.580206)</td>\n",
              "      <td>77.0</td>\n",
              "      <td>POLK</td>\n",
              "      <td>...</td>\n",
              "      <td>4626</td>\n",
              "      <td>Buchanan Deluxe 12YR</td>\n",
              "      <td>12</td>\n",
              "      <td>750</td>\n",
              "      <td>20.99</td>\n",
              "      <td>31.49</td>\n",
              "      <td>2</td>\n",
              "      <td>62.98</td>\n",
              "      <td>1.5</td>\n",
              "      <td>0.39</td>\n",
              "    </tr>\n",
              "    <tr>\n",
              "      <th>5</th>\n",
              "      <td>INV-33186700007</td>\n",
              "      <td>2021-01-04</td>\n",
              "      <td>4110</td>\n",
              "      <td>Brothers Market, Inc.</td>\n",
              "      <td>706 Highway 57</td>\n",
              "      <td>Parkersburg</td>\n",
              "      <td>50665.0</td>\n",
              "      <td>POINT (-92.785196 42.570357)</td>\n",
              "      <td>12.0</td>\n",
              "      <td>BUTLER</td>\n",
              "      <td>...</td>\n",
              "      <td>34821</td>\n",
              "      <td>Svedka 80prf</td>\n",
              "      <td>6</td>\n",
              "      <td>1750</td>\n",
              "      <td>13.50</td>\n",
              "      <td>20.25</td>\n",
              "      <td>6</td>\n",
              "      <td>121.50</td>\n",
              "      <td>10.5</td>\n",
              "      <td>2.77</td>\n",
              "    </tr>\n",
              "    <tr>\n",
              "      <th>6</th>\n",
              "      <td>INV-33197500003</td>\n",
              "      <td>2021-01-04</td>\n",
              "      <td>4228</td>\n",
              "      <td>Fareway Stores #462 / Vinton</td>\n",
              "      <td>501 A Ave</td>\n",
              "      <td>Vinton</td>\n",
              "      <td>52349.0</td>\n",
              "      <td>POINT (-92.025603 42.166166)</td>\n",
              "      <td>6.0</td>\n",
              "      <td>BENTON</td>\n",
              "      <td>...</td>\n",
              "      <td>34006</td>\n",
              "      <td>Absolut Swedish Vodka 80prf</td>\n",
              "      <td>12</td>\n",
              "      <td>750</td>\n",
              "      <td>9.99</td>\n",
              "      <td>14.99</td>\n",
              "      <td>12</td>\n",
              "      <td>179.88</td>\n",
              "      <td>9.0</td>\n",
              "      <td>2.37</td>\n",
              "    </tr>\n",
              "    <tr>\n",
              "      <th>7</th>\n",
              "      <td>INV-33197200010</td>\n",
              "      <td>2021-01-04</td>\n",
              "      <td>2713</td>\n",
              "      <td>Hy-Vee Dyersville Dollar Fresh</td>\n",
              "      <td>1201 12th Ave SE</td>\n",
              "      <td>Dyersville</td>\n",
              "      <td>52040.0</td>\n",
              "      <td>POINT (-91.110798 42.475283)</td>\n",
              "      <td>31.0</td>\n",
              "      <td>DUBUQUE</td>\n",
              "      <td>...</td>\n",
              "      <td>36308</td>\n",
              "      <td>Hawkeye Vodka</td>\n",
              "      <td>6</td>\n",
              "      <td>1750</td>\n",
              "      <td>7.17</td>\n",
              "      <td>10.76</td>\n",
              "      <td>6</td>\n",
              "      <td>64.56</td>\n",
              "      <td>10.5</td>\n",
              "      <td>2.77</td>\n",
              "    </tr>\n",
              "    <tr>\n",
              "      <th>8</th>\n",
              "      <td>INV-33174600126</td>\n",
              "      <td>2021-01-04</td>\n",
              "      <td>2648</td>\n",
              "      <td>Hy-Vee #4 / WDM</td>\n",
              "      <td>555 S 51st St</td>\n",
              "      <td>West Des Moines</td>\n",
              "      <td>50265.0</td>\n",
              "      <td>POINT (-93.773557 41.561197)</td>\n",
              "      <td>77.0</td>\n",
              "      <td>POLK</td>\n",
              "      <td>...</td>\n",
              "      <td>5318</td>\n",
              "      <td>Johnnie Walker Double Black</td>\n",
              "      <td>6</td>\n",
              "      <td>750</td>\n",
              "      <td>24.05</td>\n",
              "      <td>36.08</td>\n",
              "      <td>6</td>\n",
              "      <td>216.48</td>\n",
              "      <td>4.5</td>\n",
              "      <td>1.18</td>\n",
              "    </tr>\n",
              "    <tr>\n",
              "      <th>9</th>\n",
              "      <td>INV-33202000002</td>\n",
              "      <td>2021-01-04</td>\n",
              "      <td>5735</td>\n",
              "      <td>Super Saver Liquor -Muscatine</td>\n",
              "      <td>1510 A Isett Avenue</td>\n",
              "      <td>Muscatine</td>\n",
              "      <td>52761.0</td>\n",
              "      <td>POINT (-91.042755 41.440327)</td>\n",
              "      <td>70.0</td>\n",
              "      <td>MUSCATINE</td>\n",
              "      <td>...</td>\n",
              "      <td>86739</td>\n",
              "      <td>Ole Smoky Apple Pie Moonshine 70prf Mini</td>\n",
              "      <td>8</td>\n",
              "      <td>50</td>\n",
              "      <td>8.75</td>\n",
              "      <td>13.13</td>\n",
              "      <td>8</td>\n",
              "      <td>105.04</td>\n",
              "      <td>0.4</td>\n",
              "      <td>0.10</td>\n",
              "    </tr>\n",
              "  </tbody>\n",
              "</table>\n",
              "<p>10 rows × 24 columns</p>\n",
              "</div>\n",
              "      <button class=\"colab-df-convert\" onclick=\"convertToInteractive('df-cdd83220-28ec-420d-bcc4-fdf709edaed8')\"\n",
              "              title=\"Convert this dataframe to an interactive table.\"\n",
              "              style=\"display:none;\">\n",
              "\n",
              "  <svg xmlns=\"http://www.w3.org/2000/svg\" height=\"24px\"viewBox=\"0 0 24 24\"\n",
              "       width=\"24px\">\n",
              "    <path d=\"M0 0h24v24H0V0z\" fill=\"none\"/>\n",
              "    <path d=\"M18.56 5.44l.94 2.06.94-2.06 2.06-.94-2.06-.94-.94-2.06-.94 2.06-2.06.94zm-11 1L8.5 8.5l.94-2.06 2.06-.94-2.06-.94L8.5 2.5l-.94 2.06-2.06.94zm10 10l.94 2.06.94-2.06 2.06-.94-2.06-.94-.94-2.06-.94 2.06-2.06.94z\"/><path d=\"M17.41 7.96l-1.37-1.37c-.4-.4-.92-.59-1.43-.59-.52 0-1.04.2-1.43.59L10.3 9.45l-7.72 7.72c-.78.78-.78 2.05 0 2.83L4 21.41c.39.39.9.59 1.41.59.51 0 1.02-.2 1.41-.59l7.78-7.78 2.81-2.81c.8-.78.8-2.07 0-2.86zM5.41 20L4 18.59l7.72-7.72 1.47 1.35L5.41 20z\"/>\n",
              "  </svg>\n",
              "      </button>\n",
              "\n",
              "\n",
              "\n",
              "    <div id=\"df-70c76296-a0b3-4125-85e9-c63833045447\">\n",
              "      <button class=\"colab-df-quickchart\" onclick=\"quickchart('df-70c76296-a0b3-4125-85e9-c63833045447')\"\n",
              "              title=\"Suggest charts.\"\n",
              "              style=\"display:none;\">\n",
              "\n",
              "<svg xmlns=\"http://www.w3.org/2000/svg\" height=\"24px\"viewBox=\"0 0 24 24\"\n",
              "     width=\"24px\">\n",
              "    <g>\n",
              "        <path d=\"M19 3H5c-1.1 0-2 .9-2 2v14c0 1.1.9 2 2 2h14c1.1 0 2-.9 2-2V5c0-1.1-.9-2-2-2zM9 17H7v-7h2v7zm4 0h-2V7h2v10zm4 0h-2v-4h2v4z\"/>\n",
              "    </g>\n",
              "</svg>\n",
              "      </button>\n",
              "    </div>\n",
              "\n",
              "<style>\n",
              "  .colab-df-quickchart {\n",
              "    background-color: #E8F0FE;\n",
              "    border: none;\n",
              "    border-radius: 50%;\n",
              "    cursor: pointer;\n",
              "    display: none;\n",
              "    fill: #1967D2;\n",
              "    height: 32px;\n",
              "    padding: 0 0 0 0;\n",
              "    width: 32px;\n",
              "  }\n",
              "\n",
              "  .colab-df-quickchart:hover {\n",
              "    background-color: #E2EBFA;\n",
              "    box-shadow: 0px 1px 2px rgba(60, 64, 67, 0.3), 0px 1px 3px 1px rgba(60, 64, 67, 0.15);\n",
              "    fill: #174EA6;\n",
              "  }\n",
              "\n",
              "  [theme=dark] .colab-df-quickchart {\n",
              "    background-color: #3B4455;\n",
              "    fill: #D2E3FC;\n",
              "  }\n",
              "\n",
              "  [theme=dark] .colab-df-quickchart:hover {\n",
              "    background-color: #434B5C;\n",
              "    box-shadow: 0px 1px 3px 1px rgba(0, 0, 0, 0.15);\n",
              "    filter: drop-shadow(0px 1px 2px rgba(0, 0, 0, 0.3));\n",
              "    fill: #FFFFFF;\n",
              "  }\n",
              "</style>\n",
              "\n",
              "    <script>\n",
              "      async function quickchart(key) {\n",
              "        const containerElement = document.querySelector('#' + key);\n",
              "        const charts = await google.colab.kernel.invokeFunction(\n",
              "            'suggestCharts', [key], {});\n",
              "      }\n",
              "    </script>\n",
              "\n",
              "      <script>\n",
              "\n",
              "function displayQuickchartButton(domScope) {\n",
              "  let quickchartButtonEl =\n",
              "    domScope.querySelector('#df-70c76296-a0b3-4125-85e9-c63833045447 button.colab-df-quickchart');\n",
              "  quickchartButtonEl.style.display =\n",
              "    google.colab.kernel.accessAllowed ? 'block' : 'none';\n",
              "}\n",
              "\n",
              "        displayQuickchartButton(document);\n",
              "      </script>\n",
              "      <style>\n",
              "    .colab-df-container {\n",
              "      display:flex;\n",
              "      flex-wrap:wrap;\n",
              "      gap: 12px;\n",
              "    }\n",
              "\n",
              "    .colab-df-convert {\n",
              "      background-color: #E8F0FE;\n",
              "      border: none;\n",
              "      border-radius: 50%;\n",
              "      cursor: pointer;\n",
              "      display: none;\n",
              "      fill: #1967D2;\n",
              "      height: 32px;\n",
              "      padding: 0 0 0 0;\n",
              "      width: 32px;\n",
              "    }\n",
              "\n",
              "    .colab-df-convert:hover {\n",
              "      background-color: #E2EBFA;\n",
              "      box-shadow: 0px 1px 2px rgba(60, 64, 67, 0.3), 0px 1px 3px 1px rgba(60, 64, 67, 0.15);\n",
              "      fill: #174EA6;\n",
              "    }\n",
              "\n",
              "    [theme=dark] .colab-df-convert {\n",
              "      background-color: #3B4455;\n",
              "      fill: #D2E3FC;\n",
              "    }\n",
              "\n",
              "    [theme=dark] .colab-df-convert:hover {\n",
              "      background-color: #434B5C;\n",
              "      box-shadow: 0px 1px 3px 1px rgba(0, 0, 0, 0.15);\n",
              "      filter: drop-shadow(0px 1px 2px rgba(0, 0, 0, 0.3));\n",
              "      fill: #FFFFFF;\n",
              "    }\n",
              "  </style>\n",
              "\n",
              "      <script>\n",
              "        const buttonEl =\n",
              "          document.querySelector('#df-cdd83220-28ec-420d-bcc4-fdf709edaed8 button.colab-df-convert');\n",
              "        buttonEl.style.display =\n",
              "          google.colab.kernel.accessAllowed ? 'block' : 'none';\n",
              "\n",
              "        async function convertToInteractive(key) {\n",
              "          const element = document.querySelector('#df-cdd83220-28ec-420d-bcc4-fdf709edaed8');\n",
              "          const dataTable =\n",
              "            await google.colab.kernel.invokeFunction('convertToInteractive',\n",
              "                                                     [key], {});\n",
              "          if (!dataTable) return;\n",
              "\n",
              "          const docLinkHtml = 'Like what you see? Visit the ' +\n",
              "            '<a target=\"_blank\" href=https://colab.research.google.com/notebooks/data_table.ipynb>data table notebook</a>'\n",
              "            + ' to learn more about interactive tables.';\n",
              "          element.innerHTML = '';\n",
              "          dataTable['output_type'] = 'display_data';\n",
              "          await google.colab.output.renderOutput(dataTable, element);\n",
              "          const docLink = document.createElement('div');\n",
              "          docLink.innerHTML = docLinkHtml;\n",
              "          element.appendChild(docLink);\n",
              "        }\n",
              "      </script>\n",
              "    </div>\n",
              "  </div>\n"
            ]
          },
          "metadata": {},
          "execution_count": 20
        }
      ]
    },
    {
      "cell_type": "code",
      "source": [
        "# Count the total number of rows and columns\n",
        "total_rows, total_columns = dfuser.shape\n",
        "\n",
        "# Display the total number of rows and columns\n",
        "print(\"Total Rows:\", total_rows)\n",
        "print(\"Total Columns:\", total_columns)\n"
      ],
      "metadata": {
        "id": "sAPF81g910Si",
        "colab": {
          "base_uri": "https://localhost:8080/"
        },
        "outputId": "892cdc0a-d8f7-447f-eea7-51cb439c3136"
      },
      "execution_count": null,
      "outputs": [
        {
          "output_type": "stream",
          "name": "stdout",
          "text": [
            "Total Rows: 2805307\n",
            "Total Columns: 24\n"
          ]
        }
      ]
    },
    {
      "cell_type": "markdown",
      "source": [
        "#3.Scope analysis\n",
        "bottles_sold= cara kita tau sales terbanyak\n",
        "\n",
        "pertama,\n",
        "\n",
        "cari kita kota mana yang bottles_sold ter tinggi dalam 1 tahun.\n",
        "kita cari 5 dari total kota\n",
        "\n",
        "\n",
        "ke 2\n",
        "\n",
        "bottles_sold  --group by penjualan dalam Q1,2,3,4\n",
        ", dari 4 Q itu, lihat mana yang tertinggi sales nya .\n",
        "\n",
        "comparing variable:\n",
        "\n",
        "1.date\n",
        "\n",
        "2.city\n",
        "\n",
        "3.bottle_sold"
      ],
      "metadata": {
        "id": "0m_RzBDO31W0"
      }
    },
    {
      "cell_type": "markdown",
      "source": [
        "##cari 5 TOP sales City"
      ],
      "metadata": {
        "id": "uCMdx1sQ5Cw4"
      }
    },
    {
      "cell_type": "code",
      "source": [
        "\n",
        "#cari 5 kota terbanyak penjualannya dalam 1 tahun\n",
        "import pandas as pd\n",
        "\n",
        "# Group the data by \"city\" and calculate the sum of \"bottles_sold\" for each city\n",
        "city_sales = dfuser.groupby('city')['bottles_sold'].sum()\n",
        "\n",
        "# Sort the cities based on the total \"bottles_sold\" in descending order\n",
        "sorted_cities = city_sales.sort_values(ascending=False)\n",
        "\n",
        "# Select the top five cities with the highest \"bottles_sold\"\n",
        "top_five_cities = sorted_cities.head(5)\n",
        "\n",
        "# Print the result\n",
        "print(\"Top five cities with the highest bottles_sold:\")\n",
        "print(top_five_cities)\n"
      ],
      "metadata": {
        "colab": {
          "base_uri": "https://localhost:8080/"
        },
        "id": "rMoQema04Cbs",
        "outputId": "07f20ed3-fff5-49d9-9a60-336f94492648"
      },
      "execution_count": null,
      "outputs": [
        {
          "output_type": "stream",
          "name": "stdout",
          "text": [
            "Top five cities with the highest bottles_sold:\n",
            "city\n",
            "Des Moines        3982319\n",
            "Cedar Rapids      2244728\n",
            "Davenport         1880295\n",
            "Waterloo          1252213\n",
            "Council Bluffs    1244521\n",
            "Name: bottles_sold, dtype: int64\n"
          ]
        }
      ]
    },
    {
      "cell_type": "markdown",
      "source": [
        "\n",
        "\n",
        "insight\n",
        "\n",
        "5 Top city penjualan terbanyak dalam 1 tahun\n",
        "\n",
        "1.Des Moines : 3.982.307 Bottles\n",
        "\n",
        "2.Cedar Rapids : 2.244.722 Bottles\n",
        "\n",
        "3.Davenport : 1.880.295 Bottles\n",
        "\n",
        "4.Waterloo : 1.252.213 Bottles\n",
        "\n",
        "5.Council Bluffs : 1.244.521 Bottles\n"
      ],
      "metadata": {
        "id": "glqbQerv5QrG"
      }
    },
    {
      "cell_type": "markdown",
      "source": [
        "#Remove Rows except Top 5 sales"
      ],
      "metadata": {
        "id": "i27M12685ImM"
      }
    },
    {
      "cell_type": "code",
      "source": [
        "import pandas as pd\n",
        "\n",
        "\n",
        "# List of the cities to keep\n",
        "cities_to_keep = ['Des Moines', 'Cedar Rapids', 'Davenport', 'Waterloo', 'Council Bluffs']\n",
        "\n",
        "# Filter the DataFrame to keep only the specified cities\n",
        "df_filtered = dfuser[dfuser['city'].isin(cities_to_keep)]\n",
        "\n",
        "# Now 'df_filtered' contains only the rows with the specified cities (Des Moines, Cedar Rapids, Davenport, Waterloo, and Council Bluffs)\n",
        "\n",
        "# Optionally, if you want to make changes to the original DataFrame 'dfuser' in-place, you can use the 'drop' method to remove rows not in the specified cities:\n",
        "# dfuser.drop(dfuser[~dfuser['city'].isin(cities_to_keep)].index, inplace=True)\n",
        "\n",
        "# Print the filtered DataFrame\n",
        "print(df_filtered)"
      ],
      "metadata": {
        "colab": {
          "base_uri": "https://localhost:8080/"
        },
        "id": "_aGGoddj5MZz",
        "outputId": "c2b31fef-3aa0-4466-e4e1-d16129cda3cd"
      },
      "execution_count": null,
      "outputs": [
        {
          "output_type": "stream",
          "name": "stdout",
          "text": [
            "        invoice_and_item_number        date  store_number  \\\n",
            "13              INV-33193600028  2021-01-04          5176   \n",
            "15              INV-33170400225  2021-01-04          2552   \n",
            "18              INV-33193800019  2021-01-04          5687   \n",
            "26              INV-33168700038  2021-01-04          5566   \n",
            "27              INV-33192300021  2021-01-04          3666   \n",
            "...                         ...         ...           ...   \n",
            "2805302         INV-41968600007  2021-11-14          4617   \n",
            "2805303         INV-41968600008  2021-11-14          4617   \n",
            "2805304         INV-41968600009  2021-11-14          4617   \n",
            "2805305         INV-41968600006  2021-11-14          4617   \n",
            "2805306         INV-41968600005  2021-11-14          4617   \n",
            "\n",
            "                                          store_name                address  \\\n",
            "13       Smokin' Joe's #15 Tobacco and Liquor Outlet     455 Edgewood Rd NW   \n",
            "15               Hy-Vee Food Store #3 / Cedar Rapids  20 Wilson Avenue West   \n",
            "18        Casey's General Store #3756 / Cedar Rapids       4560 16th Ave SW   \n",
            "26                         East End Liquor & Tobacco       3804 Hubbell Ave   \n",
            "27                Target Store T-1771 / Cedar Rapids    3400 Edgewood Rd SW   \n",
            "...                                              ...                    ...   \n",
            "2805302                               Lickety Liquor       2501 HUBBELL AVE   \n",
            "2805303                               Lickety Liquor       2501 HUBBELL AVE   \n",
            "2805304                               Lickety Liquor       2501 HUBBELL AVE   \n",
            "2805305                               Lickety Liquor       2501 HUBBELL AVE   \n",
            "2805306                               Lickety Liquor       2501 HUBBELL AVE   \n",
            "\n",
            "                 city  zip_code                         store_location  \\\n",
            "13       Cedar Rapids   52405.0            POINT (-91.715903 41.97805)   \n",
            "15       Cedar Rapids   52404.0           POINT (-91.658577 41.955859)   \n",
            "18       Cedar Rapids   52404.0  POINT (-91.729434 41.963815000000004)   \n",
            "26         Des Moines   50317.0           POINT (-93.541351 41.630849)   \n",
            "27       Cedar Rapids   52404.0           POINT (-91.716111 41.944272)   \n",
            "...               ...       ...                                    ...   \n",
            "2805302    Des Moines   50317.0           POINT (-93.570489 41.607817)   \n",
            "2805303    Des Moines   50317.0           POINT (-93.570489 41.607817)   \n",
            "2805304    Des Moines   50317.0           POINT (-93.570489 41.607817)   \n",
            "2805305    Des Moines   50317.0           POINT (-93.570489 41.607817)   \n",
            "2805306    Des Moines   50317.0           POINT (-93.570489 41.607817)   \n",
            "\n",
            "         county_number county  ...  item_number  \\\n",
            "13                57.0   LINN  ...        84617   \n",
            "15                57.0   LINN  ...        55506   \n",
            "18                57.0   LINN  ...        10807   \n",
            "26                77.0   POLK  ...        87402   \n",
            "27                57.0   LINN  ...        40327   \n",
            "...                ...    ...  ...          ...   \n",
            "2805302           77.0   POLK  ...        87937   \n",
            "2805303           77.0   POLK  ...        89387   \n",
            "2805304           77.0   POLK  ...        39492   \n",
            "2805305           77.0   POLK  ...        89836   \n",
            "2805306           77.0   POLK  ...        87646   \n",
            "\n",
            "                      item_description  pack bottle_volume_ml  \\\n",
            "13         Phillips Root Beer Schnapps    12             1000   \n",
            "15             Paramount Cherry Brandy    12              750   \n",
            "18             Crown Royal Regal Apple    12              750   \n",
            "26         Jose Cuervo Especial Silver    48              200   \n",
            "27       Deep Eddy Ruby Red Grapefruit    12              750   \n",
            "...                                ...   ...              ...   \n",
            "2805302                  Juarez Silver    12             1000   \n",
            "2805303                    Juarez Gold    12             1000   \n",
            "2805304     New Amsterdam Pink Whitney    12              750   \n",
            "2805305              Hornitos Reposado    12              750   \n",
            "2805306                 Exotico Blanco    12              750   \n",
            "\n",
            "         state_bottle_cost state_bottle_retail  bottles_sold  sale_dollars  \\\n",
            "13                    5.50                8.25            12         99.00   \n",
            "15                    5.50                8.25             3         24.75   \n",
            "18                   15.59               23.39            12        280.68   \n",
            "26                    3.00                4.50            48        216.00   \n",
            "27                    8.50               12.75            12        153.00   \n",
            "...                    ...                 ...           ...           ...   \n",
            "2805302               7.83               11.75             1         11.75   \n",
            "2805303               7.83               11.75             1         11.75   \n",
            "2805304               7.50               11.25             3         33.75   \n",
            "2805305              13.50               20.25             2         40.50   \n",
            "2805306              11.00               16.50             1         16.50   \n",
            "\n",
            "         volume_sold_liters  volume_sold_gallons  \n",
            "13                    12.00                 3.17  \n",
            "15                     2.25                 0.59  \n",
            "18                     9.00                 2.37  \n",
            "26                     9.60                 2.53  \n",
            "27                     9.00                 2.37  \n",
            "...                     ...                  ...  \n",
            "2805302                1.00                 0.26  \n",
            "2805303                1.00                 0.26  \n",
            "2805304                2.25                 0.59  \n",
            "2805305                1.50                 0.39  \n",
            "2805306                0.75                 0.19  \n",
            "\n",
            "[674041 rows x 24 columns]\n"
          ]
        }
      ]
    },
    {
      "cell_type": "code",
      "source": [
        "import pandas as pd\n",
        "\n",
        "# Check for missing values in all columns\n",
        "missing_values = dfuser.isnull().sum()\n",
        "\n",
        "# Calculate the total number of rows in the DataFrame\n",
        "total_rows = len(dfuser)\n",
        "\n",
        "# Display the number of missing values and their percentages for each column\n",
        "for column, count in missing_values.items():\n",
        "    percentage_missing = (count / total_rows) * 100\n",
        "    print(f\"{column}: {count}(NULL: {percentage_missing:.2f}%)\")"
      ],
      "metadata": {
        "colab": {
          "base_uri": "https://localhost:8080/"
        },
        "id": "Tix6BiyS9zaV",
        "outputId": "e51e172f-2806-42d6-b39d-334cc9fff6f8"
      },
      "execution_count": null,
      "outputs": [
        {
          "output_type": "stream",
          "name": "stdout",
          "text": [
            "invoice_and_item_number: 0(NULL: 0.00%)\n",
            "date: 0(NULL: 0.00%)\n",
            "store_number: 0(NULL: 0.00%)\n",
            "store_name: 0(NULL: 0.00%)\n",
            "address: 142(NULL: 0.01%)\n",
            "city: 142(NULL: 0.01%)\n",
            "zip_code: 142(NULL: 0.01%)\n",
            "store_location: 330335(NULL: 11.78%)\n",
            "county_number: 142(NULL: 0.01%)\n",
            "county: 142(NULL: 0.01%)\n",
            "category: 0(NULL: 0.00%)\n",
            "category_name: 0(NULL: 0.00%)\n",
            "vendor_number: 4(NULL: 0.00%)\n",
            "vendor_name: 4(NULL: 0.00%)\n",
            "item_number: 0(NULL: 0.00%)\n",
            "item_description: 0(NULL: 0.00%)\n",
            "pack: 0(NULL: 0.00%)\n",
            "bottle_volume_ml: 0(NULL: 0.00%)\n",
            "state_bottle_cost: 0(NULL: 0.00%)\n",
            "state_bottle_retail: 0(NULL: 0.00%)\n",
            "bottles_sold: 0(NULL: 0.00%)\n",
            "sale_dollars: 0(NULL: 0.00%)\n",
            "volume_sold_liters: 0(NULL: 0.00%)\n",
            "volume_sold_gallons: 0(NULL: 0.00%)\n"
          ]
        }
      ]
    },
    {
      "cell_type": "markdown",
      "source": [
        "#check the rest of data after removing other data expect 5 top sales city"
      ],
      "metadata": {
        "id": "gui3qnB45bhe"
      }
    },
    {
      "cell_type": "code",
      "source": [
        "import pandas as pd\n",
        "\n",
        "\n",
        "# List of the cities to keep\n",
        "cities_to_keep = ['Des Moines', 'Cedar Rapids', 'Davenport', 'Waterloo', 'Council Bluffs']\n",
        "\n",
        "# Filter the DataFrame to keep only the specified cities\n",
        "df_filtered = dfuser[dfuser['city'].isin(cities_to_keep)]\n",
        "\n",
        "# Now 'df_filtered' contains only the rows with the specified cities (Des Moines, Cedar Rapids, Davenport, Waterloo, and Council Bluffs)\n",
        "\n",
        "# Display information about the filtered DataFrame\n",
        "print(\"Information about the filtered DataFrame:\")\n",
        "print(df_filtered.info())"
      ],
      "metadata": {
        "colab": {
          "base_uri": "https://localhost:8080/"
        },
        "id": "w04qPf2T5fkH",
        "outputId": "46236c6b-6ca8-4e1d-e72c-242e594317d8"
      },
      "execution_count": null,
      "outputs": [
        {
          "output_type": "stream",
          "name": "stdout",
          "text": [
            "Information about the filtered DataFrame:\n",
            "<class 'pandas.core.frame.DataFrame'>\n",
            "Int64Index: 674041 entries, 13 to 2805306\n",
            "Data columns (total 24 columns):\n",
            " #   Column                   Non-Null Count   Dtype  \n",
            "---  ------                   --------------   -----  \n",
            " 0   invoice_and_item_number  674041 non-null  object \n",
            " 1   date                     674041 non-null  object \n",
            " 2   store_number             674041 non-null  int64  \n",
            " 3   store_name               674041 non-null  object \n",
            " 4   address                  674041 non-null  object \n",
            " 5   city                     674041 non-null  object \n",
            " 6   zip_code                 674041 non-null  float64\n",
            " 7   store_location           596463 non-null  object \n",
            " 8   county_number            674041 non-null  float64\n",
            " 9   county                   674041 non-null  object \n",
            " 10  category                 674041 non-null  float64\n",
            " 11  category_name            674041 non-null  object \n",
            " 12  vendor_number            674039 non-null  float64\n",
            " 13  vendor_name              674039 non-null  object \n",
            " 14  item_number              674041 non-null  int64  \n",
            " 15  item_description         674041 non-null  object \n",
            " 16  pack                     674041 non-null  int64  \n",
            " 17  bottle_volume_ml         674041 non-null  int64  \n",
            " 18  state_bottle_cost        674041 non-null  float64\n",
            " 19  state_bottle_retail      674041 non-null  float64\n",
            " 20  bottles_sold             674041 non-null  int64  \n",
            " 21  sale_dollars             674041 non-null  float64\n",
            " 22  volume_sold_liters       674041 non-null  float64\n",
            " 23  volume_sold_gallons      674041 non-null  float64\n",
            "dtypes: float64(9), int64(5), object(10)\n",
            "memory usage: 128.6+ MB\n",
            "None\n"
          ]
        }
      ]
    },
    {
      "cell_type": "markdown",
      "source": [
        "#4.Data Cleaning"
      ],
      "metadata": {
        "id": "iW--MJ0f0rYU"
      }
    },
    {
      "cell_type": "markdown",
      "source": [
        "##User"
      ],
      "metadata": {
        "id": "MSt2z-Mz1C7W"
      }
    },
    {
      "cell_type": "code",
      "source": [
        "dfuser.head() #Showing 5 data records"
      ],
      "metadata": {
        "id": "WG6JX2Wr1I_V",
        "colab": {
          "base_uri": "https://localhost:8080/",
          "height": 491
        },
        "outputId": "b7d137e4-4ff8-461a-8501-17a694b2853f"
      },
      "execution_count": null,
      "outputs": [
        {
          "output_type": "execute_result",
          "data": {
            "text/plain": [
              "  invoice_and_item_number        date  store_number  \\\n",
              "0         INV-33179700135  2021-01-04          2576   \n",
              "1         INV-33196200106  2021-01-04          2649   \n",
              "2         INV-33184300011  2021-01-04          2539   \n",
              "3         INV-33184100015  2021-01-04          4024   \n",
              "4         INV-33174200025  2021-01-04          5385   \n",
              "\n",
              "                             store_name         address             city  \\\n",
              "0  Hy-Vee Wine and Spirits / Storm Lake  1250 N Lake St       Storm Lake   \n",
              "1                   Hy-Vee #3 / Dubuque   400 Locust St          Dubuque   \n",
              "2        Hy-Vee Food Store / Iowa Falls      640 S. Oak       Iowa Falls   \n",
              "3            Wal-Mart 1546 / Iowa Falls       840 S Oak       Iowa Falls   \n",
              "4                    Vine Food & Liquor   2704 Vine St.  West Des Moines   \n",
              "\n",
              "   zip_code                        store_location  county_number      county  \\\n",
              "0   50588.0  POINT (-95.200758 42.65318400000001)           11.0  BUENA VIST   \n",
              "1   52001.0  POINT (-90.666497 42.49721900000001)           31.0     DUBUQUE   \n",
              "2   50126.0          POINT (-93.262364 42.508752)           42.0      HARDIN   \n",
              "3   50126.0          POINT (-93.262446 42.503407)           42.0      HARDIN   \n",
              "4   50265.0          POINT (-93.741511 41.580206)           77.0        POLK   \n",
              "\n",
              "   ...  item_number           item_description  pack bottle_volume_ml  \\\n",
              "0  ...        64870  Fireball Cinnamon Whiskey    48              100   \n",
              "1  ...        65200       Tequila Rose Liqueur    12              750   \n",
              "2  ...        38008         Smirnoff 80prf PET     6             1750   \n",
              "3  ...        36648              Caliber Vodka    12              750   \n",
              "4  ...         4626       Buchanan Deluxe 12YR    12              750   \n",
              "\n",
              "   state_bottle_cost state_bottle_retail  bottles_sold  sale_dollars  \\\n",
              "0               0.90                1.35            48         64.80   \n",
              "1              11.50               17.25             4         69.00   \n",
              "2              14.75               22.13             6        132.78   \n",
              "3               3.31                4.97            12         59.64   \n",
              "4              20.99               31.49             2         62.98   \n",
              "\n",
              "   volume_sold_liters  volume_sold_gallons  \n",
              "0                 4.8                 1.26  \n",
              "1                 3.0                 0.79  \n",
              "2                10.5                 2.77  \n",
              "3                 9.0                 2.37  \n",
              "4                 1.5                 0.39  \n",
              "\n",
              "[5 rows x 24 columns]"
            ],
            "text/html": [
              "\n",
              "\n",
              "  <div id=\"df-265c9874-f095-4eb0-a745-489c71c79060\">\n",
              "    <div class=\"colab-df-container\">\n",
              "      <div>\n",
              "<style scoped>\n",
              "    .dataframe tbody tr th:only-of-type {\n",
              "        vertical-align: middle;\n",
              "    }\n",
              "\n",
              "    .dataframe tbody tr th {\n",
              "        vertical-align: top;\n",
              "    }\n",
              "\n",
              "    .dataframe thead th {\n",
              "        text-align: right;\n",
              "    }\n",
              "</style>\n",
              "<table border=\"1\" class=\"dataframe\">\n",
              "  <thead>\n",
              "    <tr style=\"text-align: right;\">\n",
              "      <th></th>\n",
              "      <th>invoice_and_item_number</th>\n",
              "      <th>date</th>\n",
              "      <th>store_number</th>\n",
              "      <th>store_name</th>\n",
              "      <th>address</th>\n",
              "      <th>city</th>\n",
              "      <th>zip_code</th>\n",
              "      <th>store_location</th>\n",
              "      <th>county_number</th>\n",
              "      <th>county</th>\n",
              "      <th>...</th>\n",
              "      <th>item_number</th>\n",
              "      <th>item_description</th>\n",
              "      <th>pack</th>\n",
              "      <th>bottle_volume_ml</th>\n",
              "      <th>state_bottle_cost</th>\n",
              "      <th>state_bottle_retail</th>\n",
              "      <th>bottles_sold</th>\n",
              "      <th>sale_dollars</th>\n",
              "      <th>volume_sold_liters</th>\n",
              "      <th>volume_sold_gallons</th>\n",
              "    </tr>\n",
              "  </thead>\n",
              "  <tbody>\n",
              "    <tr>\n",
              "      <th>0</th>\n",
              "      <td>INV-33179700135</td>\n",
              "      <td>2021-01-04</td>\n",
              "      <td>2576</td>\n",
              "      <td>Hy-Vee Wine and Spirits / Storm Lake</td>\n",
              "      <td>1250 N Lake St</td>\n",
              "      <td>Storm Lake</td>\n",
              "      <td>50588.0</td>\n",
              "      <td>POINT (-95.200758 42.65318400000001)</td>\n",
              "      <td>11.0</td>\n",
              "      <td>BUENA VIST</td>\n",
              "      <td>...</td>\n",
              "      <td>64870</td>\n",
              "      <td>Fireball Cinnamon Whiskey</td>\n",
              "      <td>48</td>\n",
              "      <td>100</td>\n",
              "      <td>0.90</td>\n",
              "      <td>1.35</td>\n",
              "      <td>48</td>\n",
              "      <td>64.80</td>\n",
              "      <td>4.8</td>\n",
              "      <td>1.26</td>\n",
              "    </tr>\n",
              "    <tr>\n",
              "      <th>1</th>\n",
              "      <td>INV-33196200106</td>\n",
              "      <td>2021-01-04</td>\n",
              "      <td>2649</td>\n",
              "      <td>Hy-Vee #3 / Dubuque</td>\n",
              "      <td>400 Locust St</td>\n",
              "      <td>Dubuque</td>\n",
              "      <td>52001.0</td>\n",
              "      <td>POINT (-90.666497 42.49721900000001)</td>\n",
              "      <td>31.0</td>\n",
              "      <td>DUBUQUE</td>\n",
              "      <td>...</td>\n",
              "      <td>65200</td>\n",
              "      <td>Tequila Rose Liqueur</td>\n",
              "      <td>12</td>\n",
              "      <td>750</td>\n",
              "      <td>11.50</td>\n",
              "      <td>17.25</td>\n",
              "      <td>4</td>\n",
              "      <td>69.00</td>\n",
              "      <td>3.0</td>\n",
              "      <td>0.79</td>\n",
              "    </tr>\n",
              "    <tr>\n",
              "      <th>2</th>\n",
              "      <td>INV-33184300011</td>\n",
              "      <td>2021-01-04</td>\n",
              "      <td>2539</td>\n",
              "      <td>Hy-Vee Food Store / Iowa Falls</td>\n",
              "      <td>640 S. Oak</td>\n",
              "      <td>Iowa Falls</td>\n",
              "      <td>50126.0</td>\n",
              "      <td>POINT (-93.262364 42.508752)</td>\n",
              "      <td>42.0</td>\n",
              "      <td>HARDIN</td>\n",
              "      <td>...</td>\n",
              "      <td>38008</td>\n",
              "      <td>Smirnoff 80prf PET</td>\n",
              "      <td>6</td>\n",
              "      <td>1750</td>\n",
              "      <td>14.75</td>\n",
              "      <td>22.13</td>\n",
              "      <td>6</td>\n",
              "      <td>132.78</td>\n",
              "      <td>10.5</td>\n",
              "      <td>2.77</td>\n",
              "    </tr>\n",
              "    <tr>\n",
              "      <th>3</th>\n",
              "      <td>INV-33184100015</td>\n",
              "      <td>2021-01-04</td>\n",
              "      <td>4024</td>\n",
              "      <td>Wal-Mart 1546 / Iowa Falls</td>\n",
              "      <td>840 S Oak</td>\n",
              "      <td>Iowa Falls</td>\n",
              "      <td>50126.0</td>\n",
              "      <td>POINT (-93.262446 42.503407)</td>\n",
              "      <td>42.0</td>\n",
              "      <td>HARDIN</td>\n",
              "      <td>...</td>\n",
              "      <td>36648</td>\n",
              "      <td>Caliber Vodka</td>\n",
              "      <td>12</td>\n",
              "      <td>750</td>\n",
              "      <td>3.31</td>\n",
              "      <td>4.97</td>\n",
              "      <td>12</td>\n",
              "      <td>59.64</td>\n",
              "      <td>9.0</td>\n",
              "      <td>2.37</td>\n",
              "    </tr>\n",
              "    <tr>\n",
              "      <th>4</th>\n",
              "      <td>INV-33174200025</td>\n",
              "      <td>2021-01-04</td>\n",
              "      <td>5385</td>\n",
              "      <td>Vine Food &amp; Liquor</td>\n",
              "      <td>2704 Vine St.</td>\n",
              "      <td>West Des Moines</td>\n",
              "      <td>50265.0</td>\n",
              "      <td>POINT (-93.741511 41.580206)</td>\n",
              "      <td>77.0</td>\n",
              "      <td>POLK</td>\n",
              "      <td>...</td>\n",
              "      <td>4626</td>\n",
              "      <td>Buchanan Deluxe 12YR</td>\n",
              "      <td>12</td>\n",
              "      <td>750</td>\n",
              "      <td>20.99</td>\n",
              "      <td>31.49</td>\n",
              "      <td>2</td>\n",
              "      <td>62.98</td>\n",
              "      <td>1.5</td>\n",
              "      <td>0.39</td>\n",
              "    </tr>\n",
              "  </tbody>\n",
              "</table>\n",
              "<p>5 rows × 24 columns</p>\n",
              "</div>\n",
              "      <button class=\"colab-df-convert\" onclick=\"convertToInteractive('df-265c9874-f095-4eb0-a745-489c71c79060')\"\n",
              "              title=\"Convert this dataframe to an interactive table.\"\n",
              "              style=\"display:none;\">\n",
              "\n",
              "  <svg xmlns=\"http://www.w3.org/2000/svg\" height=\"24px\"viewBox=\"0 0 24 24\"\n",
              "       width=\"24px\">\n",
              "    <path d=\"M0 0h24v24H0V0z\" fill=\"none\"/>\n",
              "    <path d=\"M18.56 5.44l.94 2.06.94-2.06 2.06-.94-2.06-.94-.94-2.06-.94 2.06-2.06.94zm-11 1L8.5 8.5l.94-2.06 2.06-.94-2.06-.94L8.5 2.5l-.94 2.06-2.06.94zm10 10l.94 2.06.94-2.06 2.06-.94-2.06-.94-.94-2.06-.94 2.06-2.06.94z\"/><path d=\"M17.41 7.96l-1.37-1.37c-.4-.4-.92-.59-1.43-.59-.52 0-1.04.2-1.43.59L10.3 9.45l-7.72 7.72c-.78.78-.78 2.05 0 2.83L4 21.41c.39.39.9.59 1.41.59.51 0 1.02-.2 1.41-.59l7.78-7.78 2.81-2.81c.8-.78.8-2.07 0-2.86zM5.41 20L4 18.59l7.72-7.72 1.47 1.35L5.41 20z\"/>\n",
              "  </svg>\n",
              "      </button>\n",
              "\n",
              "\n",
              "\n",
              "    <div id=\"df-0a46aac7-a793-4a10-ba46-facacdf789a3\">\n",
              "      <button class=\"colab-df-quickchart\" onclick=\"quickchart('df-0a46aac7-a793-4a10-ba46-facacdf789a3')\"\n",
              "              title=\"Suggest charts.\"\n",
              "              style=\"display:none;\">\n",
              "\n",
              "<svg xmlns=\"http://www.w3.org/2000/svg\" height=\"24px\"viewBox=\"0 0 24 24\"\n",
              "     width=\"24px\">\n",
              "    <g>\n",
              "        <path d=\"M19 3H5c-1.1 0-2 .9-2 2v14c0 1.1.9 2 2 2h14c1.1 0 2-.9 2-2V5c0-1.1-.9-2-2-2zM9 17H7v-7h2v7zm4 0h-2V7h2v10zm4 0h-2v-4h2v4z\"/>\n",
              "    </g>\n",
              "</svg>\n",
              "      </button>\n",
              "    </div>\n",
              "\n",
              "<style>\n",
              "  .colab-df-quickchart {\n",
              "    background-color: #E8F0FE;\n",
              "    border: none;\n",
              "    border-radius: 50%;\n",
              "    cursor: pointer;\n",
              "    display: none;\n",
              "    fill: #1967D2;\n",
              "    height: 32px;\n",
              "    padding: 0 0 0 0;\n",
              "    width: 32px;\n",
              "  }\n",
              "\n",
              "  .colab-df-quickchart:hover {\n",
              "    background-color: #E2EBFA;\n",
              "    box-shadow: 0px 1px 2px rgba(60, 64, 67, 0.3), 0px 1px 3px 1px rgba(60, 64, 67, 0.15);\n",
              "    fill: #174EA6;\n",
              "  }\n",
              "\n",
              "  [theme=dark] .colab-df-quickchart {\n",
              "    background-color: #3B4455;\n",
              "    fill: #D2E3FC;\n",
              "  }\n",
              "\n",
              "  [theme=dark] .colab-df-quickchart:hover {\n",
              "    background-color: #434B5C;\n",
              "    box-shadow: 0px 1px 3px 1px rgba(0, 0, 0, 0.15);\n",
              "    filter: drop-shadow(0px 1px 2px rgba(0, 0, 0, 0.3));\n",
              "    fill: #FFFFFF;\n",
              "  }\n",
              "</style>\n",
              "\n",
              "    <script>\n",
              "      async function quickchart(key) {\n",
              "        const containerElement = document.querySelector('#' + key);\n",
              "        const charts = await google.colab.kernel.invokeFunction(\n",
              "            'suggestCharts', [key], {});\n",
              "      }\n",
              "    </script>\n",
              "\n",
              "      <script>\n",
              "\n",
              "function displayQuickchartButton(domScope) {\n",
              "  let quickchartButtonEl =\n",
              "    domScope.querySelector('#df-0a46aac7-a793-4a10-ba46-facacdf789a3 button.colab-df-quickchart');\n",
              "  quickchartButtonEl.style.display =\n",
              "    google.colab.kernel.accessAllowed ? 'block' : 'none';\n",
              "}\n",
              "\n",
              "        displayQuickchartButton(document);\n",
              "      </script>\n",
              "      <style>\n",
              "    .colab-df-container {\n",
              "      display:flex;\n",
              "      flex-wrap:wrap;\n",
              "      gap: 12px;\n",
              "    }\n",
              "\n",
              "    .colab-df-convert {\n",
              "      background-color: #E8F0FE;\n",
              "      border: none;\n",
              "      border-radius: 50%;\n",
              "      cursor: pointer;\n",
              "      display: none;\n",
              "      fill: #1967D2;\n",
              "      height: 32px;\n",
              "      padding: 0 0 0 0;\n",
              "      width: 32px;\n",
              "    }\n",
              "\n",
              "    .colab-df-convert:hover {\n",
              "      background-color: #E2EBFA;\n",
              "      box-shadow: 0px 1px 2px rgba(60, 64, 67, 0.3), 0px 1px 3px 1px rgba(60, 64, 67, 0.15);\n",
              "      fill: #174EA6;\n",
              "    }\n",
              "\n",
              "    [theme=dark] .colab-df-convert {\n",
              "      background-color: #3B4455;\n",
              "      fill: #D2E3FC;\n",
              "    }\n",
              "\n",
              "    [theme=dark] .colab-df-convert:hover {\n",
              "      background-color: #434B5C;\n",
              "      box-shadow: 0px 1px 3px 1px rgba(0, 0, 0, 0.15);\n",
              "      filter: drop-shadow(0px 1px 2px rgba(0, 0, 0, 0.3));\n",
              "      fill: #FFFFFF;\n",
              "    }\n",
              "  </style>\n",
              "\n",
              "      <script>\n",
              "        const buttonEl =\n",
              "          document.querySelector('#df-265c9874-f095-4eb0-a745-489c71c79060 button.colab-df-convert');\n",
              "        buttonEl.style.display =\n",
              "          google.colab.kernel.accessAllowed ? 'block' : 'none';\n",
              "\n",
              "        async function convertToInteractive(key) {\n",
              "          const element = document.querySelector('#df-265c9874-f095-4eb0-a745-489c71c79060');\n",
              "          const dataTable =\n",
              "            await google.colab.kernel.invokeFunction('convertToInteractive',\n",
              "                                                     [key], {});\n",
              "          if (!dataTable) return;\n",
              "\n",
              "          const docLinkHtml = 'Like what you see? Visit the ' +\n",
              "            '<a target=\"_blank\" href=https://colab.research.google.com/notebooks/data_table.ipynb>data table notebook</a>'\n",
              "            + ' to learn more about interactive tables.';\n",
              "          element.innerHTML = '';\n",
              "          dataTable['output_type'] = 'display_data';\n",
              "          await google.colab.output.renderOutput(dataTable, element);\n",
              "          const docLink = document.createElement('div');\n",
              "          docLink.innerHTML = docLinkHtml;\n",
              "          element.appendChild(docLink);\n",
              "        }\n",
              "      </script>\n",
              "    </div>\n",
              "  </div>\n"
            ]
          },
          "metadata": {},
          "execution_count": 26
        }
      ]
    },
    {
      "cell_type": "markdown",
      "source": [
        "##Check for Null / Missing Values"
      ],
      "metadata": {
        "id": "8XoQFiad-aj5"
      }
    },
    {
      "cell_type": "code",
      "source": [
        "import pandas as pd\n",
        "\n",
        "# Check for missing values in all columns\n",
        "missing_values = dfuser.isnull().sum()\n",
        "\n",
        "# Calculate the total number of rows in the DataFrame\n",
        "total_rows = len(dfuser)\n",
        "\n",
        "# Display the number of missing values and their percentages for each column\n",
        "for column, count in missing_values.items():\n",
        "    percentage_missing = (count / total_rows) * 100\n",
        "    print(f\"{column}: {count}(NULL: {percentage_missing:.2f}%)\")"
      ],
      "metadata": {
        "colab": {
          "base_uri": "https://localhost:8080/"
        },
        "id": "S83OKwSO-dQ-",
        "outputId": "35420c66-44f0-4f45-b5a5-170b000c9b77"
      },
      "execution_count": null,
      "outputs": [
        {
          "output_type": "stream",
          "name": "stdout",
          "text": [
            "invoice_and_item_number: 0(NULL: 0.00%)\n",
            "date: 0(NULL: 0.00%)\n",
            "store_number: 0(NULL: 0.00%)\n",
            "store_name: 0(NULL: 0.00%)\n",
            "address: 142(NULL: 0.01%)\n",
            "city: 142(NULL: 0.01%)\n",
            "zip_code: 142(NULL: 0.01%)\n",
            "store_location: 330335(NULL: 11.78%)\n",
            "county_number: 142(NULL: 0.01%)\n",
            "county: 142(NULL: 0.01%)\n",
            "category: 0(NULL: 0.00%)\n",
            "category_name: 0(NULL: 0.00%)\n",
            "vendor_number: 4(NULL: 0.00%)\n",
            "vendor_name: 4(NULL: 0.00%)\n",
            "item_number: 0(NULL: 0.00%)\n",
            "item_description: 0(NULL: 0.00%)\n",
            "pack: 0(NULL: 0.00%)\n",
            "bottle_volume_ml: 0(NULL: 0.00%)\n",
            "state_bottle_cost: 0(NULL: 0.00%)\n",
            "state_bottle_retail: 0(NULL: 0.00%)\n",
            "bottles_sold: 0(NULL: 0.00%)\n",
            "sale_dollars: 0(NULL: 0.00%)\n",
            "volume_sold_liters: 0(NULL: 0.00%)\n",
            "volume_sold_gallons: 0(NULL: 0.00%)\n"
          ]
        }
      ]
    },
    {
      "cell_type": "markdown",
      "source": [
        "**insight**\n",
        "\n",
        "Tidak ada Missing Value"
      ],
      "metadata": {
        "id": "kIJSqV4z-gun"
      }
    },
    {
      "cell_type": "markdown",
      "source": [
        "## Check for unique Values & Typo"
      ],
      "metadata": {
        "id": "Xifl0m_F1Pxi"
      }
    },
    {
      "cell_type": "code",
      "source": [
        "import pandas as pd\n",
        "\n",
        "# Replace 'path_to_csv_file.csv' with the correct path to your CSV file in your Google Drive\n",
        "file_path = '/content/drive/MyDrive/Colab Notebooks/Iowa Liquor Sales (Jan 2021-Jan 2022).csv'\n",
        "\n",
        "# Read the CSV file into a pandas DataFrame\n",
        "dfuser = pd.read_csv(file_path)\n",
        "\n",
        "# Let's assume you want to check for values and typos in the 'store_name' column\n",
        "column_to_check = 'store_name'\n",
        "\n",
        "# Get the unique values in the 'store_name' column\n",
        "unique_values = dfuser[column_to_check].unique()\n",
        "\n",
        "# Get the count of each unique value in the 'store_name' column\n",
        "value_counts = dfuser[column_to_check].value_counts()\n",
        "\n",
        "# Display the unique values and their counts to check for any typos or inconsistencies\n",
        "print(\"Unique Values:\")\n",
        "print(unique_values)\n",
        "print(\"\\nValue Counts:\")\n",
        "print(value_counts)\n"
      ],
      "metadata": {
        "id": "tXP0FCvr3_Oo",
        "colab": {
          "base_uri": "https://localhost:8080/"
        },
        "outputId": "654fd7a3-2543-4951-97b1-bac00f0174ea"
      },
      "execution_count": null,
      "outputs": [
        {
          "output_type": "stream",
          "name": "stdout",
          "text": [
            "Unique Values:\n",
            "['Hy-Vee Wine and Spirits / Storm Lake' 'Hy-Vee #3 / Dubuque'\n",
            " 'Hy-Vee Food Store / Iowa Falls' ...\n",
            " 'Fareway Stores, Inc. #222 / Rockwell City'\n",
            " 'Superquick Liquor Vine / West Des Moines'\n",
            " 'Rock River Distillation Company']\n",
            "\n",
            "Value Counts:\n",
            "Hy-Vee #3 / BDI / Des Moines                20534\n",
            "Central City 2                              19604\n",
            "Central City Liquor, Inc.                   16926\n",
            "Hy-Vee Food Store / Cedar Falls             15484\n",
            "Benz Distributing                           14552\n",
            "                                            ...  \n",
            "Artisan Grain Distillery                        6\n",
            "Rock River Distillation Company                 4\n",
            "TYCOGA Vineyard & Winery                        3\n",
            "Eddy's Liquors / Alta                           2\n",
            "Superquick Liquor Vine / West Des Moines        1\n",
            "Name: store_name, Length: 1952, dtype: int64\n"
          ]
        }
      ]
    },
    {
      "cell_type": "markdown",
      "source": [
        "**insight**\n",
        "\n",
        "The provided output shows the unique values in a specific column, likely the 'store_name' column of the dataset. Here's what it means:\n",
        "\n",
        "1. **Unique Values:**\n",
        "   - This section lists all the distinct names of stores or liquor-related establishments found in the 'store_name' column of the dataset.\n",
        "   - The unique values are case-sensitive, meaning that variations in capitalization (e.g., uppercase, lowercase) are treated as different values.\n",
        "\n",
        "For example, looking at the 'Unique Values' section:\n",
        "\n",
        "'Hy-Vee Wine and Spirits / Storm Lake'\n",
        "\n",
        "'Hy-Vee #3 / Dubuque'\n",
        "\n",
        "\n",
        " 'Hy-Vee Food Store / Iowa Falls'\n",
        "\n",
        " 'Fareway Stores, Inc. #222 / Rockwell City'\n",
        "\n",
        " 'Superquick Liquor Vine / West Des Moines'\n",
        "\n",
        " 'Rock River Distillation Company'\n",
        "\n",
        "\n",
        "。\n",
        "\n",
        "Each line represents a unique store name exactly as it appears in the dataset. The dataset contains various store names with different spellings and capitalizations, making each entry unique.\n",
        "\n",
        "\n",
        "\n",
        "**menurut saya pribadi tidak ada Typo.dan memang unique semua**"
      ],
      "metadata": {
        "id": "h2TY-iu97nd7"
      }
    },
    {
      "cell_type": "markdown",
      "source": [
        "##Check Duplicates"
      ],
      "metadata": {
        "id": "8MUvU-PJ9Axq"
      }
    },
    {
      "cell_type": "code",
      "source": [
        "import pandas as pd\n",
        "\n",
        "# Replace 'file_path' with the correct path to your CSV file in your Google Drive\n",
        "file_path = '/content/drive/MyDrive/Colab Notebooks/Iowa Liquor Sales (Jan 2021-Jan 2022).csv'\n",
        "\n",
        "# Read the CSV file into a pandas DataFrame\n",
        "df = pd.read_csv(file_path)\n",
        "\n",
        "# Check for duplicate rows in the entire DataFrame\n",
        "duplicates = df.duplicated()\n",
        "\n",
        "# Filter the DataFrame to show only the duplicate rows\n",
        "duplicate_rows = df[duplicates]\n",
        "\n",
        "# Print the duplicate rows\n",
        "print(duplicate_rows)\n"
      ],
      "metadata": {
        "id": "a9ILkqNO9DZ1",
        "colab": {
          "base_uri": "https://localhost:8080/"
        },
        "outputId": "40ac5508-63ea-442f-eb6b-ba775eec235b"
      },
      "execution_count": null,
      "outputs": [
        {
          "output_type": "stream",
          "name": "stdout",
          "text": [
            "Empty DataFrame\n",
            "Columns: [invoice_and_item_number, date, store_number, store_name, address, city, zip_code, store_location, county_number, county, category, category_name, vendor_number, vendor_name, item_number, item_description, pack, bottle_volume_ml, state_bottle_cost, state_bottle_retail, bottles_sold, sale_dollars, volume_sold_liters, volume_sold_gallons]\n",
            "Index: []\n",
            "\n",
            "[0 rows x 24 columns]\n"
          ]
        }
      ]
    },
    {
      "cell_type": "markdown",
      "source": [
        "###insight-No Duplicates Found"
      ],
      "metadata": {
        "id": "3fwYMEjR9z_e"
      }
    },
    {
      "cell_type": "markdown",
      "source": [
        "## Check Data Type"
      ],
      "metadata": {
        "id": "_Tb0IBM5-CJZ"
      }
    },
    {
      "cell_type": "code",
      "source": [
        "import pandas as pd\n",
        "\n",
        "# It seems that the column 'zip_code' and 'vendor_number' contains non-finite values (NaN or inf), which is preventing the conversion to the int64 data type. Before converting, we need to handle these non-finite values.\n",
        "\n",
        "\n",
        "# Handle missing values in 'zip_code' and 'vendor_number' columns (choose one of the following approaches)\n",
        "# 1. Drop rows with missing values in 'zip_code' and 'vendor_number' columns\n",
        "dfuser = dfuser.dropna(subset=['zip_code', 'vendor_number'])\n",
        "# 2. Fill missing values in 'zip_code' and 'vendor_number' columns with default values (e.g., 0)\n",
        "# dfuser['zip_code'] = dfuser['zip_code'].fillna(0)\n",
        "# dfuser['vendor_number'] = dfuser['vendor_number'].fillna(0)\n",
        "\n",
        "# Change data types of multiple columns in one run\n",
        "dfuser['date'] = pd.to_datetime(dfuser['date'])  # Change 'date' to datetime data type\n",
        "dfuser['zip_code'] = dfuser['zip_code'].astype(int)  # Change 'zip_code' to int64 data type\n",
        "dfuser['county_number'] = dfuser['county_number'].astype(int)  # Change 'county_number' to int64 data type\n",
        "dfuser['category'] = dfuser['category'].astype(str)  # Change 'category' to object data type\n",
        "dfuser['vendor_number'] = dfuser['vendor_number'].astype(int)  # Change 'vendor_number' to int64 data type\n",
        "\n",
        "# Print the data types of the DataFrame after the changes\n",
        "print(dfuser.dtypes)\n"
      ],
      "metadata": {
        "colab": {
          "base_uri": "https://localhost:8080/"
        },
        "id": "TdVCkknFx9gr",
        "outputId": "40682543-9f7a-4cd3-ad5a-0a135e0e0e4f"
      },
      "execution_count": null,
      "outputs": [
        {
          "output_type": "stream",
          "name": "stdout",
          "text": [
            "invoice_and_item_number            object\n",
            "date                       datetime64[ns]\n",
            "store_number                        int64\n",
            "store_name                         object\n",
            "address                            object\n",
            "city                               object\n",
            "zip_code                            int64\n",
            "store_location                     object\n",
            "county_number                       int64\n",
            "county                             object\n",
            "category                           object\n",
            "category_name                      object\n",
            "vendor_number                       int64\n",
            "vendor_name                        object\n",
            "item_number                         int64\n",
            "item_description                   object\n",
            "pack                                int64\n",
            "bottle_volume_ml                    int64\n",
            "state_bottle_cost                 float64\n",
            "state_bottle_retail               float64\n",
            "bottles_sold                        int64\n",
            "sale_dollars                      float64\n",
            "volume_sold_liters                float64\n",
            "volume_sold_gallons               float64\n",
            "dtype: object\n"
          ]
        }
      ]
    },
    {
      "cell_type": "code",
      "source": [
        "# Convert 'date' column to datetime type with correct date format\n",
        "dfuser['date'] = pd.to_datetime(dfuser['date'], format='%Y-%m-%d')\n"
      ],
      "metadata": {
        "id": "6vRN1q2p0LTt"
      },
      "execution_count": null,
      "outputs": []
    },
    {
      "cell_type": "code",
      "source": [
        "\n",
        "# Check the data types of each column in the DataFrame\n",
        "data_types_correct = dfuser.dtypes\n",
        "\n",
        "# Print the data types\n",
        "print(\"Data Types of Columns:\")\n",
        "print(data_types_correct)\n"
      ],
      "metadata": {
        "id": "DxZepm5H-Erf",
        "colab": {
          "base_uri": "https://localhost:8080/"
        },
        "outputId": "92ce1447-4378-47ba-e920-fb3c916ebefd"
      },
      "execution_count": null,
      "outputs": [
        {
          "output_type": "stream",
          "name": "stdout",
          "text": [
            "Data Types of Columns:\n",
            "invoice_and_item_number            object\n",
            "date                       datetime64[ns]\n",
            "store_number                        int64\n",
            "store_name                         object\n",
            "address                            object\n",
            "city                               object\n",
            "zip_code                            int64\n",
            "store_location                     object\n",
            "county_number                       int64\n",
            "county                             object\n",
            "category                           object\n",
            "category_name                      object\n",
            "vendor_number                       int64\n",
            "vendor_name                        object\n",
            "item_number                         int64\n",
            "item_description                   object\n",
            "pack                                int64\n",
            "bottle_volume_ml                    int64\n",
            "state_bottle_cost                 float64\n",
            "state_bottle_retail               float64\n",
            "bottles_sold                        int64\n",
            "sale_dollars                      float64\n",
            "volume_sold_liters                float64\n",
            "volume_sold_gallons               float64\n",
            "dtype: object\n"
          ]
        }
      ]
    },
    {
      "cell_type": "markdown",
      "source": [
        "**insight**\n",
        "\n",
        "0   invoice_and_item_number  object   - Benar\n",
        "\n",
        " 1   date                     datetime64  - Benar\n",
        "\n",
        " 2   store_number             int64   - Benar\n",
        "\n",
        " 3   store_name               object  - Benar\n",
        "\n",
        " 4   address                  object  - Benar\n",
        "\n",
        " 5   city                     object  - Benar\n",
        "\n",
        " 6   zip_code                 int64   - Benar\n",
        "\n",
        " 7   county_number            int64   - Benar\n",
        "\n",
        " 8   county                   object  - Benar\n",
        "\n",
        " 10  category                 object  - Benar\n",
        "\n",
        " 11  category_name            object  - Benar\n",
        "\n",
        " 12  vendor_number            int64   - Benar\n",
        "\n",
        " 13  vendor_name              object  - Benar\n",
        "\n",
        " 14  item_number              int64   - Benar\n",
        "\n",
        " 15  item_description         object  - Benar\n",
        "\n",
        " 16  pack                     int64   - Benar\n",
        "\n",
        " 17  bottle_volume_ml         int64   - Benar\n",
        "\n",
        " 18  state_bottle_cost        float64 - Benar\n",
        "\n",
        " 19  state_bottle_retail      float64 - Benar\n",
        "\n",
        " 20  bottles_sold             int64   - Benar\n",
        "\n",
        " 21  sale_dollars             float64 - Benar\n",
        "\n",
        " 22  volume_sold_liters       float64 - Benar\n",
        "\n",
        " 23  volume_sold_gallons      float64 - Benar"
      ],
      "metadata": {
        "id": "kJCpinyM-QJE"
      }
    },
    {
      "cell_type": "markdown",
      "source": [
        "**insight - Data Type sudah benar semua**"
      ],
      "metadata": {
        "id": "ecjfnm_KKQNt"
      }
    },
    {
      "cell_type": "code",
      "source": [
        "#last make sure data type\n",
        "\n",
        "import pandas as pd\n",
        "\n",
        "# It seems that the column 'zip_code' and 'vendor_number' contains non-finite values (NaN or inf), which is preventing the conversion to the int64 data type. Before converting, we need to handle these non-finite values.\n",
        "\n",
        "\n",
        "# Handle missing values in 'zip_code' and 'vendor_number' columns (choose one of the following approaches)\n",
        "# 1. Drop rows with missing values in 'zip_code' and 'vendor_number' columns\n",
        "dfuser = dfuser.dropna(subset=['zip_code', 'vendor_number'])\n",
        "# 2. Fill missing values in 'zip_code' and 'vendor_number' columns with default values (e.g., 0)\n",
        "# dfuser['zip_code'] = dfuser['zip_code'].fillna(0)\n",
        "# dfuser['vendor_number'] = dfuser['vendor_number'].fillna(0)\n",
        "\n",
        "# Change data types of multiple columns in one run\n",
        "dfuser['date'] = pd.to_datetime(dfuser['date'])  # Change 'date' to datetime data type\n",
        "dfuser['zip_code'] = dfuser['zip_code'].astype(int)  # Change 'zip_code' to int64 data type\n",
        "dfuser['county_number'] = dfuser['county_number'].astype(int)  # Change 'county_number' to int64 data type\n",
        "dfuser['category'] = dfuser['category'].astype(str)  # Change 'category' to object data type\n",
        "dfuser['vendor_number'] = dfuser['vendor_number'].astype(int)  # Change 'vendor_number' to int64 data type\n",
        "\n",
        "# Print the data types of the DataFrame after the changes\n",
        "print(dfuser.dtypes)\n",
        "\n"
      ],
      "metadata": {
        "id": "2T7tLHo3LFmC",
        "colab": {
          "base_uri": "https://localhost:8080/"
        },
        "outputId": "292e39e4-d1c2-4e19-a6b3-aa7461e9b5fb"
      },
      "execution_count": null,
      "outputs": [
        {
          "output_type": "stream",
          "name": "stdout",
          "text": [
            "invoice_and_item_number            object\n",
            "date                       datetime64[ns]\n",
            "store_number                        int64\n",
            "store_name                         object\n",
            "address                            object\n",
            "city                               object\n",
            "zip_code                            int64\n",
            "store_location                     object\n",
            "county_number                       int64\n",
            "county                             object\n",
            "category                           object\n",
            "category_name                      object\n",
            "vendor_number                       int64\n",
            "vendor_name                        object\n",
            "item_number                         int64\n",
            "item_description                   object\n",
            "pack                                int64\n",
            "bottle_volume_ml                    int64\n",
            "state_bottle_cost                 float64\n",
            "state_bottle_retail               float64\n",
            "bottles_sold                        int64\n",
            "sale_dollars                      float64\n",
            "volume_sold_liters                float64\n",
            "volume_sold_gallons               float64\n",
            "dtype: object\n"
          ]
        }
      ]
    },
    {
      "cell_type": "markdown",
      "source": [
        "##Summary after Data Cleaning"
      ],
      "metadata": {
        "id": "vKD9K6HxaWUP"
      }
    },
    {
      "cell_type": "code",
      "source": [
        " #For summary after data cleaning\n",
        "\n",
        "# Get the data summary for each column\n",
        "data_summary = df_filtered.info()\n",
        "\n",
        "# Print the data cleaning summary\n",
        "print(\"Data Cleaning Summary:\")\n",
        "print(data_summary)\n",
        "\n",
        "# Get the number of dtypes\n",
        "num_dtypes = df_filtered.dtypes.value_counts()\n",
        "\n",
        "# Print the number of dtypes\n",
        "print(\"\\nNumber of dtypes:\")\n",
        "print(num_dtypes)"
      ],
      "metadata": {
        "id": "y7tZFkQtMomr",
        "colab": {
          "base_uri": "https://localhost:8080/"
        },
        "outputId": "e7d888ce-ce4d-4833-e72e-7c105e43c663"
      },
      "execution_count": null,
      "outputs": [
        {
          "output_type": "stream",
          "name": "stdout",
          "text": [
            "<class 'pandas.core.frame.DataFrame'>\n",
            "Int64Index: 674041 entries, 13 to 2805306\n",
            "Data columns (total 24 columns):\n",
            " #   Column                   Non-Null Count   Dtype  \n",
            "---  ------                   --------------   -----  \n",
            " 0   invoice_and_item_number  674041 non-null  object \n",
            " 1   date                     674041 non-null  object \n",
            " 2   store_number             674041 non-null  int64  \n",
            " 3   store_name               674041 non-null  object \n",
            " 4   address                  674041 non-null  object \n",
            " 5   city                     674041 non-null  object \n",
            " 6   zip_code                 674041 non-null  float64\n",
            " 7   store_location           596463 non-null  object \n",
            " 8   county_number            674041 non-null  float64\n",
            " 9   county                   674041 non-null  object \n",
            " 10  category                 674041 non-null  float64\n",
            " 11  category_name            674041 non-null  object \n",
            " 12  vendor_number            674039 non-null  float64\n",
            " 13  vendor_name              674039 non-null  object \n",
            " 14  item_number              674041 non-null  int64  \n",
            " 15  item_description         674041 non-null  object \n",
            " 16  pack                     674041 non-null  int64  \n",
            " 17  bottle_volume_ml         674041 non-null  int64  \n",
            " 18  state_bottle_cost        674041 non-null  float64\n",
            " 19  state_bottle_retail      674041 non-null  float64\n",
            " 20  bottles_sold             674041 non-null  int64  \n",
            " 21  sale_dollars             674041 non-null  float64\n",
            " 22  volume_sold_liters       674041 non-null  float64\n",
            " 23  volume_sold_gallons      674041 non-null  float64\n",
            "dtypes: float64(9), int64(5), object(10)\n",
            "memory usage: 128.6+ MB\n",
            "Data Cleaning Summary:\n",
            "None\n",
            "\n",
            "Number of dtypes:\n",
            "object     10\n",
            "float64     9\n",
            "int64       5\n",
            "dtype: int64\n"
          ]
        }
      ]
    },
    {
      "cell_type": "markdown",
      "source": [
        "#insight : Data has cleaned\n",
        "**and we can start the analysist**"
      ],
      "metadata": {
        "id": "WZgeaOmmacEu"
      }
    },
    {
      "cell_type": "markdown",
      "source": [
        "#5.**Users Clean Data - make a copy**"
      ],
      "metadata": {
        "id": "x0Cw6EUwMY5b"
      }
    },
    {
      "cell_type": "markdown",
      "source": [
        "#6.Analisa Data\n"
      ],
      "metadata": {
        "id": "F82sQunodKDt"
      }
    },
    {
      "cell_type": "code",
      "source": [
        "\n",
        "# Create a copy of the cleaned DataFrame for other purposes\n",
        "df_copy = df_filtered.copy()\n",
        "\n",
        "# Now, we have a new DataFrame 'df_copy' that contains the cleaned data.\n",
        "# we can perform any additional analysis or modifications on 'df_copy' without affecting 'df_filtered'.\n"
      ],
      "metadata": {
        "id": "ekhZ3WSLXGWM"
      },
      "execution_count": null,
      "outputs": []
    },
    {
      "cell_type": "markdown",
      "source": [
        "#5Top sales city visualization"
      ],
      "metadata": {
        "id": "5y3Tsb4_I1QV"
      }
    },
    {
      "cell_type": "code",
      "source": [
        "import pandas as pd\n",
        "import matplotlib.pyplot as plt\n",
        "from matplotlib.ticker import FuncFormatter\n",
        "\n",
        "# List of the top five cities\n",
        "top_cities = ['Des Moines', 'Cedar Rapids', 'Davenport', 'Waterloo', 'Council Bluffs']\n",
        "\n",
        "# Convert the 'date' column to a pandas datetime object\n",
        "dfuser['date'] = pd.to_datetime(dfuser['date'])\n",
        "\n",
        "# Filter the data for the year 2021 and the top five cities\n",
        "df_2021_top_cities = dfuser[(dfuser['date'].dt.year == 2021) & (dfuser['city'].isin(top_cities))]\n",
        "\n",
        "# Create a new column 'quarter' to represent the quarter of each date\n",
        "df_2021_top_cities['quarter'] = df_2021_top_cities['date'].dt.quarter\n",
        "\n",
        "# Group the data by \"city\" and \"quarter\" and calculate the sum of \"bottles_sold\" for each city in each quarter\n",
        "city_quarter_sales = df_2021_top_cities.groupby(['city', 'quarter'])['bottles_sold'].sum()\n",
        "\n",
        "# Create a pivot table to compare the performance of each city in each quarter\n",
        "pivot_table = city_quarter_sales.reset_index().pivot_table(index='city', columns='quarter', values='bottles_sold', aggfunc='sum')\n",
        "\n",
        "# Sort the pivot table based on the highest total bottles_sold for each city in ascending order\n",
        "sorted_pivot_table = pivot_table.sort_values(by=[1, 2, 3, 4], ascending=True)\n",
        "\n",
        "# Print the sorted pivot table\n",
        "print(\"Each of the top five cities' bottles_sold in each quarter of 2021 from lowest to highest:\")\n",
        "print(sorted_pivot_table)\n",
        "\n",
        "# Generate a bar chart to visualize the data\n",
        "ax = sorted_pivot_table.plot(kind='bar', figsize=(10, 6))\n",
        "plt.xlabel('City')\n",
        "plt.ylabel('Bottles Sold')\n",
        "plt.title('Bottles Sold in Each Quarter (2021) - Top Five Cities')\n",
        "plt.legend(title='Quarter', loc='upper left', labels=['Q1', 'Q2', 'Q3', 'Q4'])\n",
        "\n",
        "# Function to format y-axis labels as \"1M Bottles\"\n",
        "def millions_format(x, pos):\n",
        "    return f'{x/1e6:.0f}M Bottles'\n",
        "\n",
        "# Apply the millions_format function to the y-axis labels\n",
        "ax.yaxis.set_major_formatter(FuncFormatter(millions_format))\n",
        "\n",
        "# Annotate each bar with the exact number of Bottles Sold (vertically)\n",
        "for i in ax.patches:\n",
        "    ax.annotate(str(int(i.get_height())),\n",
        "                (i.get_x() + i.get_width() / 2., i.get_height()),\n",
        "                ha='center', va='bottom', xytext=(0, 5), textcoords='offset points', fontsize=9, rotation='vertical')\n",
        "\n",
        "plt.show()\n"
      ],
      "metadata": {
        "colab": {
          "base_uri": "https://localhost:8080/",
          "height": 906
        },
        "id": "FzqldapL3Luk",
        "outputId": "56234f67-9120-402d-fd67-b0cb9eb70906"
      },
      "execution_count": null,
      "outputs": [
        {
          "output_type": "stream",
          "name": "stderr",
          "text": [
            "<ipython-input-40-4a47d078776e>:15: SettingWithCopyWarning: \n",
            "A value is trying to be set on a copy of a slice from a DataFrame.\n",
            "Try using .loc[row_indexer,col_indexer] = value instead\n",
            "\n",
            "See the caveats in the documentation: https://pandas.pydata.org/pandas-docs/stable/user_guide/indexing.html#returning-a-view-versus-a-copy\n",
            "  df_2021_top_cities['quarter'] = df_2021_top_cities['date'].dt.quarter\n"
          ]
        },
        {
          "output_type": "stream",
          "name": "stdout",
          "text": [
            "Each of the top five cities' bottles_sold in each quarter of 2021 from lowest to highest:\n",
            "quarter              1       2       3       4\n",
            "city                                          \n",
            "Waterloo        271614  310951  288522  312650\n",
            "Council Bluffs  282081  286404  292670  312667\n",
            "Davenport       423362  449802  434636  459008\n",
            "Cedar Rapids    496975  534965  512596  553208\n",
            "Des Moines      808599  995952  954327  962439\n"
          ]
        },
        {
          "output_type": "display_data",
          "data": {
            "text/plain": [
              "<Figure size 1000x600 with 1 Axes>"
            ],
            "image/png": "[encoded data removed]"
          },
          "metadata": {}
        }
      ]
    },
    {
      "cell_type": "markdown",
      "source": [
        "#6.Next Analisist\n",
        "\n",
        "untuk metode analisa selanjutnya ada 2 pilihan:\n",
        "1. prediction (melalui regression analysis) -Tidak kita pakai - SKIP\n",
        "\n",
        "2. pilihan kedua adalah customer segmentation (karena nanti juri mungkin akan menanyakan hal yg berhubungan dengan business saja instead of statistics) jd customer segmentation sepertinya metode yg tepat untuk kita lakukan selanjutnya\n",
        "\n",
        "- mengenai customer segmentation:\n",
        "\n",
        "2a. kita sudah mempunyai scope 5 kota, kita boleh mengambil hanya 3 kota untuk dibuat cluster segmentationnya, agar interpretasinya lebih jelas\n",
        "\n",
        "2b. tetapi, karena kita hanya mengambil 3, kita harus mempunyai alasan yg jelas, kenapa kita hanya memilih 3 kota untuk cluster segmentationnya? dengan cara mempunyai sudut pandang menjadi data analyst dari sudut pandang apa\n",
        "\n",
        "jadi misal untuk alasan kenapa kita memilih 3 kota? karena sudut pandang kita adalah sebagai data analyst yang membantu stakeholder atau investor untuk membuka store baru, agar mereka mengetahui performance details penjualan liquor seperti apa\n",
        "\n",
        "jadi analysis kita harus bersifat valid dan impactful, punya alur dan cerita"
      ],
      "metadata": {
        "id": "E4jbu2sFB2J3"
      }
    },
    {
      "cell_type": "markdown",
      "source": [
        "##2.Customer Segmentation\n",
        "\n",
        "2a. kita sudah mempunyai scope 5 kota, kita boleh mengambil hanya 3 kota untuk dibuat cluster segmentationnya, agar interpretasinya lebih jelas\n",
        "\n",
        "2b. tetapi, karena kita hanya mengambil 3, kita harus mempunyai alasan yg jelas, kenapa kita hanya memilih 3 kota untuk cluster segmentationnya? dengan cara mempunyai sudut pandang menjadi data analyst dari sudut pandang apa"
      ],
      "metadata": {
        "id": "qqGMLaGHB4dt"
      }
    },
    {
      "cell_type": "code",
      "source": [
        "import pandas as pd\n",
        "\n",
        "# Step 1: Convert 'date' column to datetime type\n",
        "df_filtered['date'] = pd.to_datetime(df_filtered['date'])\n",
        "\n",
        "# Step 2: Calculate Recency, Frequency, and Monetary Value\n",
        "latest_date = df_filtered['date'].max()\n",
        "df_filtered['recency'] = (latest_date - df_filtered['date']).dt.days\n",
        "df_filtered['frequency'] = df_filtered.groupby(['store_number'])['invoice_and_item_number'].transform('nunique')\n",
        "df_filtered['monetary'] = df_filtered['sale_dollars']\n",
        "\n",
        "# Step 3: Define the threshold values for each segment (you can adjust these values as needed)\n",
        "recency_threshold = 90\n",
        "frequency_threshold = 5000\n",
        "monetary_threshold = 1000\n",
        "\n",
        "# Step 4: Define the function to assign RFM segments\n",
        "def rfm_segment(row):\n",
        "    if row['recency'] <= recency_threshold and row['frequency'] >= frequency_threshold and row['monetary'] >= monetary_threshold:\n",
        "        return 'Rank 1 SALES'  # High-value stores\n",
        "    elif row['recency'] <= recency_threshold and row['frequency'] >= frequency_threshold and row['monetary'] < monetary_threshold:\n",
        "        return 'Rank 2 SALES'  # Medium-value stores\n",
        "    else:\n",
        "        return 'Rank 3 SALES'  # Low-value stores\n",
        "\n",
        "# Step 5: Filter the data for the top five cities with the highest bottles_sold\n",
        "top_cities = df_filtered.groupby('city')['bottles_sold'].sum().nlargest(5).index\n",
        "df_top_cities = df_filtered[df_filtered['city'].isin(top_cities)]\n",
        "\n",
        "# Step 6: Apply the rfm_segment function to create a new column 'segment'\n",
        "df_top_cities['segment'] = df_top_cities.apply(rfm_segment, axis=1)\n",
        "\n",
        "# Step 7: Display the DataFrame with the new 'segment' column\n",
        "print(\"Rank 1 SALES:\")\n",
        "print(df_top_cities[df_top_cities['segment'] == 'Rank 1 SALES'][['store_number', 'recency', 'frequency', 'monetary', 'segment']])\n",
        "\n",
        "print(\"\\nRank 2 SALES:\")\n",
        "print(df_top_cities[df_top_cities['segment'] == 'Rank 2 SALES'][['store_number', 'recency', 'frequency', 'monetary', 'segment']])\n",
        "\n",
        "print(\"\\nRank 3 SALES:\")\n",
        "print(df_top_cities[df_top_cities['segment'] == 'Rank 3 SALES'][['store_number', 'recency', 'frequency', 'monetary', 'segment']])\n"
      ],
      "metadata": {
        "colab": {
          "base_uri": "https://localhost:8080/"
        },
        "id": "yu9CAL283cgN",
        "outputId": "b0af9dd4-b370-473e-f653-650863fc7a34"
      },
      "execution_count": null,
      "outputs": [
        {
          "output_type": "stream",
          "name": "stdout",
          "text": [
            "Rank 1 SALES:\n",
            "         store_number  recency  frequency  monetary       segment\n",
            "101897           2633       77      20534   1215.00  Rank 1 SALES\n",
            "102038           2561       77       7057   5130.00  Rank 1 SALES\n",
            "102051           2633       77      20534   1224.72  Rank 1 SALES\n",
            "102090           3773       77      14552   1141.92  Rank 1 SALES\n",
            "102246           4829       77      19568   5040.00  Rank 1 SALES\n",
            "...               ...      ...        ...       ...           ...\n",
            "2793503          4829       81      19568   4231.20  Rank 1 SALES\n",
            "2794190          4829       80      19568   1133.64  Rank 1 SALES\n",
            "2800624          2613       80       7202  12960.00  Rank 1 SALES\n",
            "2802139          2613       80       7202   5311.20  Rank 1 SALES\n",
            "2804936          2190       80      16962   1154.40  Rank 1 SALES\n",
            "\n",
            "[2267 rows x 5 columns]\n",
            "\n",
            "Rank 2 SALES:\n",
            "         store_number  recency  frequency  monetary       segment\n",
            "101899           3773       77      14552    698.16  Rank 2 SALES\n",
            "101906           2614       77      12314    166.44  Rank 2 SALES\n",
            "101911           2633       77      20534    251.82  Rank 2 SALES\n",
            "101916           2532       77       5898    144.00  Rank 2 SALES\n",
            "101920           2635       77       7345    130.50  Rank 2 SALES\n",
            "...               ...      ...        ...       ...           ...\n",
            "2805302          4617       78       5549     11.75  Rank 2 SALES\n",
            "2805303          4617       78       5549     11.75  Rank 2 SALES\n",
            "2805304          4617       78       5549     33.75  Rank 2 SALES\n",
            "2805305          4617       78       5549     40.50  Rank 2 SALES\n",
            "2805306          4617       78       5549     16.50  Rank 2 SALES\n",
            "\n",
            "[60093 rows x 5 columns]\n",
            "\n",
            "Rank 3 SALES:\n",
            "         store_number  recency  frequency  monetary       segment\n",
            "13               5176      392       4764     99.00  Rank 3 SALES\n",
            "15               2552      392       9037     24.75  Rank 3 SALES\n",
            "18               5687      392        689    280.68  Rank 3 SALES\n",
            "26               5566      392        163    216.00  Rank 3 SALES\n",
            "27               3666      392       1757    153.00  Rank 3 SALES\n",
            "...               ...      ...        ...       ...           ...\n",
            "2805208          4622       80       2026     72.00  Rank 3 SALES\n",
            "2805223          5915       80       4308     77.40  Rank 3 SALES\n",
            "2805225          4997       80       2194     31.50  Rank 3 SALES\n",
            "2805256          6140       80       2112     82.48  Rank 3 SALES\n",
            "2805276          6126       80       1790    163.08  Rank 3 SALES\n",
            "\n",
            "[611681 rows x 5 columns]\n"
          ]
        }
      ]
    },
    {
      "cell_type": "markdown",
      "source": [
        "##Insight\n",
        "\n",
        "The output shows the data split into 3 segments based on the defined criteria:\n",
        "\n",
        "    Rank 1 SALES: High-value stores (2.267 rows)\n",
        "    Rank 2 SALES: Medium-value stores (60.093 rows)\n",
        "    Rank 3 SALES: Low-value stores (611.681 rows)\n",
        "\n",
        "Each segment contains :\n",
        "\n",
        "the store_number,\n",
        "\n",
        "recency,\n",
        "\n",
        " frequency,\n",
        "\n",
        " monetary,\n",
        "\n",
        " and segment information. T\n",
        "\n",
        " his segmentation can help US identify and target different types of stores based on their sales performance."
      ],
      "metadata": {
        "id": "v8AwyiMe4_-0"
      }
    },
    {
      "cell_type": "markdown",
      "source": [
        "dari data di atas,\n",
        " kita memiliki tiga segmen penjualan berdasarkan hasil analisis RFM (Recency, Frequency, Monetary) untuk toko-toko dalam lima kota teratas. Setiap segmen memiliki karakteristik dan perilaku penjualan yang berbeda. Berikut adalah penjelasan dari tiga segmen tersebut:\n",
        "\n",
        "Rank 1 SALES:\n",
        "Terdapat 2267 toko dalam segmen ini. Segmen ini mewakili toko-toko dengan kinerja penjualan tertinggi. Rata-rata toko-toko dalam segmen ini memiliki nilai 'recency' yang rendah (sekitar 77 hari), yang menunjukkan bahwa pelanggan berbelanja dengan frekuensi tinggi dan baru-baru ini. Frekuensi belanja pada toko-toko dalam segmen ini rata-rata tinggi (sekitar 20,534 invoice per toko), dan nilai transaksi rata-rata juga tinggi (sekitar $1215). Segmen ini dapat disebut sebagai \"High-value stores\" atau toko-toko dengan nilai tinggi.\n",
        "\n",
        "Rank 2 SALES:\n",
        "Terdapat 60,093 toko dalam segmen ini. Segmen ini mewakili toko-toko dengan kinerja penjualan menengah. Rata-rata toko-toko dalam segmen ini memiliki nilai 'recency' yang rendah (sekitar 77 hari), yang menunjukkan bahwa pelanggan juga berbelanja dengan frekuensi tinggi dan baru-baru ini. Namun, nilai transaksi rata-rata pada toko-toko dalam segmen ini lebih rendah dibandingkan dengan segmen Rank 1 SALES (sekitar $698.16). Segmen ini dapat disebut sebagai \"Medium-value stores\" atau toko-toko dengan nilai menengah.\n",
        "\n",
        "Rank 3 SALES:\n",
        "Terdapat 611,681 toko dalam segmen ini. Segmen ini mewakili toko-toko dengan kinerja penjualan rendah. Rata-rata toko-toko dalam segmen ini memiliki nilai 'recency' yang lebih tinggi (sekitar 392 hari), menunjukkan bahwa pelanggan berbelanja dengan frekuensi yang lebih rendah. Frekuensi belanja pada toko-toko dalam segmen ini rata-rata lebih rendah dibandingkan dengan segmen Rank 1 dan Rank 2 (sekitar 4764 invoice per toko), dan nilai transaksi rata-rata juga lebih rendah (sekitar $99). Segmen ini dapat disebut sebagai \"Low-value stores\" atau toko-toko dengan nilai rendah.\n",
        "\n",
        "Pengelompokan tiga segmen ini memungkinkan analis data untuk memahami kinerja penjualan dan perilaku pelanggan pada kelompok-kelompok yang berbeda. Selanjutnya, analis data dapat merancang strategi pemasaran yang lebih tepat dan efisien berdasarkan karakteristik unik dari masing-masing segmen. Misalnya, segmen Rank 1 SALES mungkin memerlukan fokus pada mempertahankan pelanggan yang loyal dan meningkatkan nilai transaksi, sedangkan segmen Rank 3 SALES mungkin memerlukan strategi untuk meningkatkan frekuensi pembelian dan daya tarik produk dengan harga lebih rendah."
      ],
      "metadata": {
        "id": "yBjGb1mb6p9P"
      }
    },
    {
      "cell_type": "markdown",
      "source": [
        "## Segmen RFM Visualization"
      ],
      "metadata": {
        "id": "qKfQPiWteRfw"
      }
    },
    {
      "cell_type": "code",
      "source": [
        "pip install matplotlib\n"
      ],
      "metadata": {
        "colab": {
          "base_uri": "https://localhost:8080/"
        },
        "id": "6H4SuJW1_C-U",
        "outputId": "41762a76-7bf8-4ab3-b4e5-1db2c88ac3bf"
      },
      "execution_count": null,
      "outputs": [
        {
          "output_type": "stream",
          "name": "stdout",
          "text": [
            "Requirement already satisfied: matplotlib in /usr/local/lib/python3.10/dist-packages (3.7.1)\n",
            "Requirement already satisfied: contourpy>=1.0.1 in /usr/local/lib/python3.10/dist-packages (from matplotlib) (1.1.0)\n",
            "Requirement already satisfied: cycler>=0.10 in /usr/local/lib/python3.10/dist-packages (from matplotlib) (0.11.0)\n",
            "Requirement already satisfied: fonttools>=4.22.0 in /usr/local/lib/python3.10/dist-packages (from matplotlib) (4.41.1)\n",
            "Requirement already satisfied: kiwisolver>=1.0.1 in /usr/local/lib/python3.10/dist-packages (from matplotlib) (1.4.4)\n",
            "Requirement already satisfied: numpy>=1.20 in /usr/local/lib/python3.10/dist-packages (from matplotlib) (1.22.4)\n",
            "Requirement already satisfied: packaging>=20.0 in /usr/local/lib/python3.10/dist-packages (from matplotlib) (23.1)\n",
            "Requirement already satisfied: pillow>=6.2.0 in /usr/local/lib/python3.10/dist-packages (from matplotlib) (9.4.0)\n",
            "Requirement already satisfied: pyparsing>=2.3.1 in /usr/local/lib/python3.10/dist-packages (from matplotlib) (3.1.0)\n",
            "Requirement already satisfied: python-dateutil>=2.7 in /usr/local/lib/python3.10/dist-packages (from matplotlib) (2.8.2)\n",
            "Requirement already satisfied: six>=1.5 in /usr/local/lib/python3.10/dist-packages (from python-dateutil>=2.7->matplotlib) (1.16.0)\n"
          ]
        }
      ]
    },
    {
      "cell_type": "code",
      "source": [
        "import pandas as pd\n",
        "import matplotlib.pyplot as plt\n",
        "\n",
        "# Your RFM analysis code to generate the 'df_top_cities' DataFrame\n",
        "# ...\n",
        "\n",
        "# Step 1: Group the data by 'segment' and count the number of stores in each segment\n",
        "segment_counts = df_top_cities['segment'].value_counts()\n",
        "\n",
        "# Step 2: Create a bar chart to visualize the number of stores in each segment\n",
        "plt.figure(figsize=(8, 6))\n",
        "plt.bar(segment_counts.index, segment_counts.values, color='skyblue')\n",
        "plt.xlabel('Segment')\n",
        "plt.ylabel('Number of Stores')\n",
        "plt.title('Number of Stores in Each RFM Segment')\n",
        "plt.show()\n"
      ],
      "metadata": {
        "id": "YyU9XuLP_GoM",
        "outputId": "3bc47437-b05c-4a55-a283-9309f02904e3",
        "colab": {
          "base_uri": "https://localhost:8080/",
          "height": 564
        }
      },
      "execution_count": null,
      "outputs": [
        {
          "output_type": "display_data",
          "data": {
            "text/plain": [
              "<Figure size 800x600 with 1 Axes>"
            ],
            "image/png": "[encoded data removed]"
          },
          "metadata": {}
        }
      ]
    },
    {
      "cell_type": "markdown",
      "source": [
        "#tes"
      ],
      "metadata": {
        "id": "AI2ljy099mML"
      }
    }
  ]
}